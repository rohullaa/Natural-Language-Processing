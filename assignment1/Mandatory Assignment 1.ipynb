{
 "cells": [
  {
   "cell_type": "markdown",
   "id": "d101592c",
   "metadata": {},
   "source": [
    "# IN4080 – Natural Language Processing\n",
    "\n",
    "The assignment has two parts:\n",
    "* Part A: Texts and frequencies\n",
    "* Part B: Text classification"
   ]
  },
  {
   "cell_type": "code",
   "execution_count": 3,
   "id": "2bc92d8a",
   "metadata": {},
   "outputs": [],
   "source": [
    "import nltk\n",
    "from nltk.book import *\n",
    "from nltk.corpus import brown"
   ]
  },
  {
   "cell_type": "markdown",
   "id": "dcaba9b1",
   "metadata": {},
   "source": [
    "## Part A: Texts and frequencies"
   ]
  },
  {
   "cell_type": "markdown",
   "id": "c3945c4c",
   "metadata": {},
   "source": [
    "### Exercise 1 – Conditional frequency distributions\n",
    "\n",
    "\n",
    "Introdution"
   ]
  },
  {
   "cell_type": "markdown",
   "id": "0a219222",
   "metadata": {},
   "source": [
    "**a)** \n",
    "Conduct a similar experiment as the one mentioned above with the genres: news, religion,\n",
    "government, fiction, romance as conditions, and occurrences of the words: he, she, her, him,\n",
    "as events. Make a table of the conditional frequencies and deliver code and table."
   ]
  },
  {
   "cell_type": "code",
   "execution_count": 4,
   "id": "f5551cb4",
   "metadata": {},
   "outputs": [
    {
     "name": "stdout",
     "output_type": "stream",
     "text": [
      "            he she her him \n",
      "   fiction 813 280 397 375 \n",
      "government 120   0   3  25 \n",
      "      news 451  42 103  93 \n",
      "  religion 137  10   8  60 \n",
      "   romance 702 496 651 339 \n"
     ]
    }
   ],
   "source": [
    "genres = ['news', 'religion','government', 'fiction', 'romance']\n",
    "pronouns = ['he', 'she', 'her', 'him']\n",
    "\n",
    "cfd = nltk.ConditionalFreqDist((genre, word)\n",
    "                            for genre in genres\n",
    "                            for word in brown.words(categories=genre))\n",
    "cfd.tabulate(samples=pronouns)"
   ]
  },
  {
   "cell_type": "markdown",
   "id": "2c464926",
   "metadata": {},
   "source": [
    "**b)** Answer in words what you see. How does gender vary with the genres?"
   ]
  },
  {
   "cell_type": "markdown",
   "id": "a585cdaa",
   "metadata": {},
   "source": [
    "**c)** "
   ]
  },
  {
   "cell_type": "code",
   "execution_count": 5,
   "id": "cce0290d",
   "metadata": {},
   "outputs": [],
   "source": [
    "genders = ['Male','Female']\n",
    "\n",
    "cfd = nltk.ConditionalFreqDist()\n",
    "for word in brown.words():\n",
    "    word = word.lower()\n",
    "    if word == 'he' or word == 'him':\n",
    "        cfd[genders[0]][word] += 1\n",
    "    if word == 'she' or word == 'her':\n",
    "        cfd[genders[1]][word] += 1"
   ]
  },
  {
   "cell_type": "code",
   "execution_count": 6,
   "id": "51676c44",
   "metadata": {},
   "outputs": [
    {
     "name": "stdout",
     "output_type": "stream",
     "text": [
      "         he  she  her  him \n",
      "Female    0 2860 3036    0 \n",
      "  Male 9548    0    0 2619 \n"
     ]
    }
   ],
   "source": [
    "cfd.tabulate(samples = pronouns)"
   ]
  },
  {
   "cell_type": "code",
   "execution_count": 7,
   "id": "328b6d89",
   "metadata": {
    "scrolled": true
   },
   "outputs": [
    {
     "name": "stdout",
     "output_type": "stream",
     "text": [
      "Relative frequency of him: 0.1450\n",
      "Relative frequency of her: 0.1681\n"
     ]
    }
   ],
   "source": [
    "sum_freq = 0\n",
    "\n",
    "for gender in cfd:\n",
    "    for pro in cfd[gender]:\n",
    "        sum_freq += cfd[gender][pro]\n",
    "\n",
    "male_rel_freq = cfd['Male']['him']/sum_freq\n",
    "female_rel_freq = cfd['Female']['her']/sum_freq\n",
    "\n",
    "print(f'Relative frequency of him: {male_rel_freq:3.4f}')\n",
    "print(f'Relative frequency of her: {female_rel_freq:3.4f}')"
   ]
  },
  {
   "cell_type": "markdown",
   "id": "173548a4",
   "metadata": {},
   "source": [
    "We can see here that the objective form of the feminine pronoun is relatively\n",
    "more frequent than the objective form of the male pronoun. Bla bla bla------..."
   ]
  },
  {
   "cell_type": "markdown",
   "id": "9a127233",
   "metadata": {},
   "source": [
    "**d)**  "
   ]
  },
  {
   "cell_type": "code",
   "execution_count": 8,
   "id": "bce6696f",
   "metadata": {},
   "outputs": [],
   "source": [
    "#chose to have universal pos tags\n",
    "tag_brown = [x for x in brown.tagged_words(tagset='universal')]\n",
    "\n",
    "genders = ['Male','Female']\n",
    "pers_pronoun = ['she','he','her','him']\n",
    "poss_pronoun = ['her','his','hers']\n",
    "\n",
    "total_pronoun = set(pers_pronoun + poss_pronoun )"
   ]
  },
  {
   "cell_type": "code",
   "execution_count": 9,
   "id": "8326960d",
   "metadata": {},
   "outputs": [],
   "source": [
    "cfd_new = nltk.ConditionalFreqDist()\n",
    "\n",
    "def make_cfd(list_of_pronoun, type_of_pronoun):\n",
    "    for i in range(len(tag_brown)):\n",
    "        word = tag_brown[i][0].lower()\n",
    "        if word in list_of_pronoun and tag_brown[i][1] == type_of_pronoun:\n",
    "            cfd_new[tag_brown[i][1]][word] += 1\n",
    "make_cfd(pers_pronoun,'PRON')\n",
    "make_cfd(poss_pronoun,'DET')"
   ]
  },
  {
   "cell_type": "code",
   "execution_count": 10,
   "id": "4e4a4d40",
   "metadata": {},
   "outputs": [
    {
     "name": "stdout",
     "output_type": "stream",
     "text": [
      "      him hers  his   he  she  her \n",
      " DET    0    0 6957    0    0 1929 \n",
      "PRON 2619    0    0 9546 2860 1107 \n"
     ]
    }
   ],
   "source": [
    "cfd_new.tabulate(samples = total_pronoun)"
   ]
  },
  {
   "cell_type": "markdown",
   "id": "1219fe67",
   "metadata": {},
   "source": [
    "**e)**"
   ]
  },
  {
   "cell_type": "markdown",
   "id": "0674f6ae",
   "metadata": {},
   "source": [
    "**f)** Illustrate the numbers from (d) with a bar chart."
   ]
  },
  {
   "cell_type": "code",
   "execution_count": 11,
   "id": "bcb781ca",
   "metadata": {},
   "outputs": [
    {
     "data": {
      "image/png": "[encoded data removed]",
      "text/plain": [
       "<Figure size 432x288 with 1 Axes>"
      ]
     },
     "metadata": {
      "needs_background": "light"
     },
     "output_type": "display_data"
    }
   ],
   "source": [
    "import numpy as np\n",
    "import matplotlib.pyplot as plt\n",
    "\n",
    "xticks = cfd_new.keys()\n",
    "x = np.arange(0, len(cfd_new.keys()))\n",
    "height = np.zeros(len(cfd_new.keys()))\n",
    "\n",
    "for i, p in enumerate(total_pronoun):\n",
    "    y = []    \n",
    "    for j, genre in enumerate(['DET','PRON']):\n",
    "        y.append(cfd_new[genre][p])\n",
    "    plt.bar(x, y, label=p, bottom=height)\n",
    "    height += y\n",
    "\n",
    "plt.xticks(np.arange(0, len(xticks)), xticks)\n",
    "plt.legend()\n",
    "plt.show()"
   ]
  },
  {
   "cell_type": "markdown",
   "id": "17a022cb",
   "metadata": {},
   "source": [
    "**g)**"
   ]
  },
  {
   "cell_type": "markdown",
   "id": "fa01beed",
   "metadata": {},
   "source": [
    "## Exercise 2 – Downloading texts and Zipf’s law"
   ]
  },
  {
   "cell_type": "code",
   "execution_count": 12,
   "id": "e10d6c38",
   "metadata": {},
   "outputs": [],
   "source": [
    "from urllib import request\n",
    "url = \"https://www.gutenberg.org/files/74/74-0.txt\"\n",
    "response = request.urlopen(url)\n",
    "raw_data = response.read().decode('utf-8')"
   ]
  },
  {
   "cell_type": "markdown",
   "id": "2e23782d",
   "metadata": {},
   "source": [
    "**b)** We want to remove the unnecarrary data, in this the extra headlines. bla bla bla bla.........."
   ]
  },
  {
   "cell_type": "code",
   "execution_count": 13,
   "id": "b9d4c762",
   "metadata": {},
   "outputs": [],
   "source": [
    "#splitting the raw_data into a list.\n",
    "raw_data_list = raw_data.split()\n",
    "\n",
    "#finding the deleting indecies, ego. \"***\"\n",
    "delete_start = [i for i in range(len(raw_data_list)) if raw_data_list[i] == '1876.']\n",
    "delete_end = [i for i in range(len(raw_data_list)) if raw_data_list[i] == '***'] \n",
    "\n",
    "#slicing out the extra headlines. \n",
    "raw_data_list = raw_data_list[delete_start[0]+1:delete_end[2]]"
   ]
  },
  {
   "cell_type": "markdown",
   "id": "84beaec9",
   "metadata": {},
   "source": [
    "**c)** Tokenizing the data. Removing the punctuation marks ... bla bla bla.........\n",
    "Should you case fold the text?"
   ]
  },
  {
   "cell_type": "code",
   "execution_count": 14,
   "id": "cd1607a4",
   "metadata": {},
   "outputs": [],
   "source": [
    "# tokenizing the data\n",
    "token_data = nltk.word_tokenize(' '.join([str(w) for w in raw_data_list]))\n",
    "words = []\n",
    "numbers = []\n",
    "punc_marks = []\n",
    "other_tokens = []\n",
    "\n",
    "punctuation = '!\"#$%&\\'()*+,-./:;<=>?@[\\\\]^_`{|}~—'\n",
    "for word in token_data:\n",
    "    word = word.lower()\n",
    "    if word.isalpha():\n",
    "        words.append(word)\n",
    "    elif word.isdigit():\n",
    "        numbers.append(word)\n",
    "    elif word in punctuation: \n",
    "        punc_marks.append(word)\n",
    "    else:\n",
    "        other_tokens.append(word)"
   ]
  },
  {
   "cell_type": "markdown",
   "id": "3d88090a",
   "metadata": {},
   "source": [
    "Printing the different lists just to see how the elements look like."
   ]
  },
  {
   "cell_type": "code",
   "execution_count": 15,
   "id": "d8c57214",
   "metadata": {},
   "outputs": [
    {
     "name": "stdout",
     "output_type": "stream",
     "text": [
      "chapter i tom no answer tom no answer what s gone with that boy i wonder you tom no answer the old lady pulled her spectacles down and looked over them about the room then she put them up and looked out under them she seldom or never looked them  \n",
      "2 2 2 2 2 2 2 2 2  \n",
      "! . ! . , ? ! . ; . ; , , , . , , , : , , , . . ! . . : ! . ! . ? ! . . ? , , . . . ! , ! , . , , .  \n",
      "“ ” “ ” “ ’ ” _through_ “ ” service—she stove-lids “ ’ ll— ” “ ” “ ” “ y-o-u-u ” “ ’ ’ ” “ nothing. ” “ _is_ ” “ ’ aunt. ” “ ’ jam—that ’ ’ ’ ’ switch. ” air—the desperate— “ ”  \n"
     ]
    }
   ],
   "source": [
    "def print_lists(the_list):\n",
    "    for l in the_list[0:50]:\n",
    "        print(l,end=' ')\n",
    "    print(\" \")\n",
    "print_lists(words)\n",
    "print_lists(numbers)\n",
    "print_lists(punc_marks)\n",
    "print_lists(other_tokens)"
   ]
  },
  {
   "cell_type": "markdown",
   "id": "1e42c006",
   "metadata": {},
   "source": [
    "We can see that the list for \"other_tokens\" contains a lot of words, but since they have some kind som puntuation mark in it they have been putted on *other_tokens*. We have to clean these words and insert them in the correct list."
   ]
  },
  {
   "cell_type": "code",
   "execution_count": 16,
   "id": "7a7fbf82",
   "metadata": {},
   "outputs": [],
   "source": [
    "for _ in range(1000):\n",
    "    for o in other_tokens:\n",
    "        #if the token contains words with punc_mark\n",
    "        if any(x.isalpha() for x in o) and any(x in punctuation for x in o):\n",
    "            other_tokens.pop(other_tokens.index(o))\n",
    "            for char in o:\n",
    "                if char in punctuation:\n",
    "                    o = o.split(char)\n",
    "                    break\n",
    "            o = [w for w in o if w != '']\n",
    "            for w in o:    \n",
    "                words.append(w)"
   ]
  },
  {
   "cell_type": "markdown",
   "id": "3ccf2908",
   "metadata": {},
   "source": [
    "**d)** Using the the nltk.FreqDist() to count the words."
   ]
  },
  {
   "cell_type": "code",
   "execution_count": 17,
   "id": "8569cbed",
   "metadata": {
    "scrolled": true
   },
   "outputs": [
    {
     "name": "stdout",
     "output_type": "stream",
     "text": [
      "The 20 most frequent words:\n",
      "the: 3702\n",
      "and: 3104\n",
      "a: 1861\n",
      "to: 1715\n",
      "of: 1435\n",
      "it: 1315\n",
      "he: 1252\n",
      "was: 1168\n",
      "that: 1025\n",
      "i: 1015\n",
      "in: 941\n",
      "you: 893\n",
      "s: 845\n",
      "his: 815\n",
      "tom: 773\n",
      "t: 678\n",
      "with: 647\n",
      "they: 616\n",
      "but: 579\n",
      "for: 525\n"
     ]
    }
   ],
   "source": [
    "freq_dist = nltk.FreqDist(words)\n",
    "\n",
    "import itertools\n",
    "import operator\n",
    "\n",
    "sorted_freq_dist = dict(sorted(freq_dist.items(), key=operator.itemgetter(1),reverse=True))\n",
    "sorted_freq_dist = dict(itertools.islice(sorted_freq_dist.items(), 20))\n",
    "\n",
    "print(\"The 20 most frequent words:\")\n",
    "for key in sorted_freq_dist:\n",
    "    print(f'{key}: {freq_dist[key]}')"
   ]
  },
  {
   "cell_type": "markdown",
   "id": "82158f61",
   "metadata": {},
   "source": [
    "**e)** The frequencies of frequencies."
   ]
  },
  {
   "cell_type": "code",
   "execution_count": 18,
   "id": "2c1427f0",
   "metadata": {},
   "outputs": [],
   "source": [
    "freq = nltk.FreqDist()\n",
    "selection = ['1 time','2-10 times', '11-50 times','51-100 times','100+ times']\n",
    "\n",
    "for k in freq_dist:\n",
    "    if freq_dist[k] == 1 :\n",
    "        freq[selection[0]] += 1\n",
    "    elif freq_dist[k] >= 2 and freq_dist[k] <= 10:\n",
    "        freq[selection[1]] += 1\n",
    "    elif freq_dist[k] >= 11 and freq_dist[k] <=50:\n",
    "        freq[selection[2]] += 1\n",
    "    elif freq_dist[k] >= 51 and freq_dist[k] <=100:\n",
    "        freq[selection[3]] += 1\n",
    "    else:\n",
    "        freq[selection[4]] += 1"
   ]
  },
  {
   "cell_type": "code",
   "execution_count": 19,
   "id": "f089fe6d",
   "metadata": {},
   "outputs": [
    {
     "data": {
      "text/html": [
       "<div>\n",
       "<style scoped>\n",
       "    .dataframe tbody tr th:only-of-type {\n",
       "        vertical-align: middle;\n",
       "    }\n",
       "\n",
       "    .dataframe tbody tr th {\n",
       "        vertical-align: top;\n",
       "    }\n",
       "\n",
       "    .dataframe thead th {\n",
       "        text-align: right;\n",
       "    }\n",
       "</style>\n",
       "<table border=\"1\" class=\"dataframe\">\n",
       "  <thead>\n",
       "    <tr style=\"text-align: right;\">\n",
       "      <th></th>\n",
       "      <th>Words occurring:</th>\n",
       "      <th>Frequencies of frequencies:</th>\n",
       "    </tr>\n",
       "  </thead>\n",
       "  <tbody>\n",
       "    <tr>\n",
       "      <th>0</th>\n",
       "      <td>1 time</td>\n",
       "      <td>3549</td>\n",
       "    </tr>\n",
       "    <tr>\n",
       "      <th>1</th>\n",
       "      <td>2-10 times</td>\n",
       "      <td>2988</td>\n",
       "    </tr>\n",
       "    <tr>\n",
       "      <th>2</th>\n",
       "      <td>11-50 times</td>\n",
       "      <td>496</td>\n",
       "    </tr>\n",
       "    <tr>\n",
       "      <th>3</th>\n",
       "      <td>100+ times</td>\n",
       "      <td>110</td>\n",
       "    </tr>\n",
       "    <tr>\n",
       "      <th>4</th>\n",
       "      <td>51-100 times</td>\n",
       "      <td>85</td>\n",
       "    </tr>\n",
       "  </tbody>\n",
       "</table>\n",
       "</div>"
      ],
      "text/plain": [
       "  Words occurring:  Frequencies of frequencies:\n",
       "0           1 time                         3549\n",
       "1       2-10 times                         2988\n",
       "2      11-50 times                          496\n",
       "3       100+ times                          110\n",
       "4     51-100 times                           85"
      ]
     },
     "execution_count": 19,
     "metadata": {},
     "output_type": "execute_result"
    }
   ],
   "source": [
    "import pandas as pd\n",
    "\n",
    "col_keys = []\n",
    "col_values = []\n",
    "for k in freq:\n",
    "    col_keys.append(k)\n",
    "    col_values.append(freq[k])\n",
    "    \n",
    "pd.DataFrame.from_dict(data = {'Words occurring:':col_keys,'Frequencies of frequencies:': col_values})"
   ]
  },
  {
   "cell_type": "markdown",
   "id": "dcbe6b89",
   "metadata": {},
   "source": [
    "We can see that there are alot of words that only occur one time and there are words that occur only 85 occurrences of the words that have been occured 51-100 times. Below, a plot of this table is shown."
   ]
  },
  {
   "cell_type": "code",
   "execution_count": 20,
   "id": "f639c36e",
   "metadata": {},
   "outputs": [
    {
     "data": {
      "text/plain": [
       "Text(0, 0.5, 'Frequencies of frequencies')"
      ]
     },
     "execution_count": 20,
     "metadata": {},
     "output_type": "execute_result"
    },
    {
     "data": {
      "image/png": "[encoded data removed]",
      "text/plain": [
       "<Figure size 432x288 with 1 Axes>"
      ]
     },
     "metadata": {
      "needs_background": "light"
     },
     "output_type": "display_data"
    }
   ],
   "source": [
    "plt.bar(col_keys,col_values)\n",
    "plt.xticks(rotation=45)\n",
    "plt.ylabel(\"Frequencies of frequencies\")"
   ]
  },
  {
   "cell_type": "markdown",
   "id": "fa9cfaa4",
   "metadata": {},
   "source": [
    "**f)** We order the words by their frequencies, the most frequent word first. We will use the same result as the task **d** for finding the 20 most frequent words."
   ]
  },
  {
   "cell_type": "code",
   "execution_count": 21,
   "id": "9e57d79b",
   "metadata": {},
   "outputs": [],
   "source": [
    "#the 20 most frequent words\n",
    "sorted_freq_dist = dict(itertools.islice(sorted_freq_dist.items(), 20))\n",
    "ranks = range(1,21)\n",
    "zipf_constant = [i*sorted_freq_dist[k] for i,k in zip(ranks,sorted_freq_dist)]\n",
    "occurrences = [sorted_freq_dist[k] for k in sorted_freq_dist]"
   ]
  },
  {
   "cell_type": "code",
   "execution_count": 22,
   "id": "794be770",
   "metadata": {},
   "outputs": [
    {
     "data": {
      "text/html": [
       "<div>\n",
       "<style scoped>\n",
       "    .dataframe tbody tr th:only-of-type {\n",
       "        vertical-align: middle;\n",
       "    }\n",
       "\n",
       "    .dataframe tbody tr th {\n",
       "        vertical-align: top;\n",
       "    }\n",
       "\n",
       "    .dataframe thead th {\n",
       "        text-align: right;\n",
       "    }\n",
       "</style>\n",
       "<table border=\"1\" class=\"dataframe\">\n",
       "  <thead>\n",
       "    <tr style=\"text-align: right;\">\n",
       "      <th></th>\n",
       "      <th>Ranks:</th>\n",
       "      <th>Occurrences</th>\n",
       "      <th>Zipf law:</th>\n",
       "    </tr>\n",
       "  </thead>\n",
       "  <tbody>\n",
       "    <tr>\n",
       "      <th>0</th>\n",
       "      <td>1</td>\n",
       "      <td>3702</td>\n",
       "      <td>3702</td>\n",
       "    </tr>\n",
       "    <tr>\n",
       "      <th>1</th>\n",
       "      <td>2</td>\n",
       "      <td>3104</td>\n",
       "      <td>6208</td>\n",
       "    </tr>\n",
       "    <tr>\n",
       "      <th>2</th>\n",
       "      <td>3</td>\n",
       "      <td>1861</td>\n",
       "      <td>5583</td>\n",
       "    </tr>\n",
       "    <tr>\n",
       "      <th>3</th>\n",
       "      <td>4</td>\n",
       "      <td>1715</td>\n",
       "      <td>6860</td>\n",
       "    </tr>\n",
       "    <tr>\n",
       "      <th>4</th>\n",
       "      <td>5</td>\n",
       "      <td>1435</td>\n",
       "      <td>7175</td>\n",
       "    </tr>\n",
       "    <tr>\n",
       "      <th>5</th>\n",
       "      <td>6</td>\n",
       "      <td>1315</td>\n",
       "      <td>7890</td>\n",
       "    </tr>\n",
       "    <tr>\n",
       "      <th>6</th>\n",
       "      <td>7</td>\n",
       "      <td>1252</td>\n",
       "      <td>8764</td>\n",
       "    </tr>\n",
       "    <tr>\n",
       "      <th>7</th>\n",
       "      <td>8</td>\n",
       "      <td>1168</td>\n",
       "      <td>9344</td>\n",
       "    </tr>\n",
       "    <tr>\n",
       "      <th>8</th>\n",
       "      <td>9</td>\n",
       "      <td>1025</td>\n",
       "      <td>9225</td>\n",
       "    </tr>\n",
       "    <tr>\n",
       "      <th>9</th>\n",
       "      <td>10</td>\n",
       "      <td>1015</td>\n",
       "      <td>10150</td>\n",
       "    </tr>\n",
       "    <tr>\n",
       "      <th>10</th>\n",
       "      <td>11</td>\n",
       "      <td>941</td>\n",
       "      <td>10351</td>\n",
       "    </tr>\n",
       "    <tr>\n",
       "      <th>11</th>\n",
       "      <td>12</td>\n",
       "      <td>893</td>\n",
       "      <td>10716</td>\n",
       "    </tr>\n",
       "    <tr>\n",
       "      <th>12</th>\n",
       "      <td>13</td>\n",
       "      <td>845</td>\n",
       "      <td>10985</td>\n",
       "    </tr>\n",
       "    <tr>\n",
       "      <th>13</th>\n",
       "      <td>14</td>\n",
       "      <td>815</td>\n",
       "      <td>11410</td>\n",
       "    </tr>\n",
       "    <tr>\n",
       "      <th>14</th>\n",
       "      <td>15</td>\n",
       "      <td>773</td>\n",
       "      <td>11595</td>\n",
       "    </tr>\n",
       "    <tr>\n",
       "      <th>15</th>\n",
       "      <td>16</td>\n",
       "      <td>678</td>\n",
       "      <td>10848</td>\n",
       "    </tr>\n",
       "    <tr>\n",
       "      <th>16</th>\n",
       "      <td>17</td>\n",
       "      <td>647</td>\n",
       "      <td>10999</td>\n",
       "    </tr>\n",
       "    <tr>\n",
       "      <th>17</th>\n",
       "      <td>18</td>\n",
       "      <td>616</td>\n",
       "      <td>11088</td>\n",
       "    </tr>\n",
       "    <tr>\n",
       "      <th>18</th>\n",
       "      <td>19</td>\n",
       "      <td>579</td>\n",
       "      <td>11001</td>\n",
       "    </tr>\n",
       "    <tr>\n",
       "      <th>19</th>\n",
       "      <td>20</td>\n",
       "      <td>525</td>\n",
       "      <td>10500</td>\n",
       "    </tr>\n",
       "  </tbody>\n",
       "</table>\n",
       "</div>"
      ],
      "text/plain": [
       "    Ranks:  Occurrences  Zipf law:\n",
       "0        1         3702       3702\n",
       "1        2         3104       6208\n",
       "2        3         1861       5583\n",
       "3        4         1715       6860\n",
       "4        5         1435       7175\n",
       "5        6         1315       7890\n",
       "6        7         1252       8764\n",
       "7        8         1168       9344\n",
       "8        9         1025       9225\n",
       "9       10         1015      10150\n",
       "10      11          941      10351\n",
       "11      12          893      10716\n",
       "12      13          845      10985\n",
       "13      14          815      11410\n",
       "14      15          773      11595\n",
       "15      16          678      10848\n",
       "16      17          647      10999\n",
       "17      18          616      11088\n",
       "18      19          579      11001\n",
       "19      20          525      10500"
      ]
     },
     "execution_count": 22,
     "metadata": {},
     "output_type": "execute_result"
    }
   ],
   "source": [
    "pd.DataFrame.from_dict(data = {'Ranks:':ranks,'Occurrences': occurrences, 'Zipf law:': zipf_constant})"
   ]
  },
  {
   "cell_type": "markdown",
   "id": "2161530b",
   "metadata": {},
   "source": [
    "**f)**"
   ]
  },
  {
   "cell_type": "code",
   "execution_count": 23,
   "id": "b587a3c0",
   "metadata": {},
   "outputs": [
    {
     "data": {
      "image/png": "[encoded data removed]",
      "text/plain": [
       "<Figure size 432x288 with 1 Axes>"
      ]
     },
     "metadata": {
      "needs_background": "light"
     },
     "output_type": "display_data"
    },
    {
     "data": {
      "image/png": "[encoded data removed]",
      "text/plain": [
       "<Figure size 432x288 with 1 Axes>"
      ]
     },
     "metadata": {
      "needs_background": "light"
     },
     "output_type": "display_data"
    }
   ],
   "source": [
    "sorted_freq_dist = dict(sorted(freq_dist.items(), key=operator.itemgetter(1),reverse=True))\n",
    "occurences = np.array([sorted_freq_dist[k] for k in sorted_freq_dist])\n",
    "ranks = np.linspace(1,len(occurences), len(occurences))\n",
    "\n",
    "plt.plot(ranks, occurences,'k',label='linear scale')\n",
    "plt.xlabel('ranks')\n",
    "plt.ylabel('frequency')\n",
    "plt.title(\"Zipf's law\")\n",
    "plt.legend()\n",
    "plt.figure()\n",
    "\n",
    "plt.plot(np.log(ranks),np.log(occurences),'k',label='log scales')\n",
    "plt.xlabel('log(ranks)')\n",
    "plt.ylabel('log(frequency)')\n",
    "plt.title(\"Zipf's law\")\n",
    "plt.legend()\n",
    "plt.show()"
   ]
  },
  {
   "cell_type": "markdown",
   "id": "66b4ec9c",
   "metadata": {},
   "source": [
    "## Part B: Text classification"
   ]
  },
  {
   "cell_type": "markdown",
   "id": "d6bb6cbe",
   "metadata": {},
   "source": [
    "### 1a) Inititial classifier"
   ]
  },
  {
   "cell_type": "markdown",
   "id": "e3a4d7d6",
   "metadata": {},
   "source": [
    "We will work interactively in python/ipython/Jupyter notebook. Start by importing the tools we\n",
    "will be using:"
   ]
  },
  {
   "cell_type": "code",
   "execution_count": 26,
   "id": "51165064",
   "metadata": {},
   "outputs": [],
   "source": [
    "import nltk\n",
    "import random\n",
    "import numpy as np\n",
    "import scipy as sp\n",
    "import sklearn\n",
    "from sklearn.feature_extraction.text import CountVectorizer\n",
    "from sklearn.naive_bayes import MultinomialNB\n",
    "from sklearn.linear_model import LogisticRegression"
   ]
  },
  {
   "cell_type": "markdown",
   "id": "0d0a11b2",
   "metadata": {},
   "source": [
    "In this task we will use Movie Reviews Corpus from the NLTK package."
   ]
  },
  {
   "cell_type": "code",
   "execution_count": 25,
   "id": "63d681f4",
   "metadata": {},
   "outputs": [],
   "source": [
    "from nltk.corpus import movie_reviews"
   ]
  },
  {
   "cell_type": "code",
   "execution_count": 27,
   "id": "7994c800",
   "metadata": {},
   "outputs": [],
   "source": [
    "raw_movie_docs = [(movie_reviews.raw(fileid), category) for\n",
    "category in movie_reviews.categories() for fileid in\n",
    "movie_reviews.fileids(category)]"
   ]
  },
  {
   "cell_type": "markdown",
   "id": "10ccd7e8",
   "metadata": {},
   "source": [
    "We will shuffle the data and split it into 200 documents for final testing (which we will not use for\n",
    "a while) and 1800 documents for development. Use your birth date as random seed."
   ]
  },
  {
   "cell_type": "code",
   "execution_count": 32,
   "id": "46fa5418",
   "metadata": {},
   "outputs": [],
   "source": [
    "random.seed(2920)\n",
    "random.shuffle(raw_movie_docs)\n",
    "movie_test = raw_movie_docs[:200]\n",
    "movie_dev = raw_movie_docs[200:]"
   ]
  },
  {
   "cell_type": "markdown",
   "id": "00a0efa8",
   "metadata": {},
   "source": [
    "Then split the development data into 1600 documents for training and 200 for development test\n",
    "set."
   ]
  },
  {
   "cell_type": "code",
   "execution_count": 56,
   "id": "232b48f0",
   "metadata": {},
   "outputs": [],
   "source": [
    "train_data = movie_dev[:1600]\n",
    "dev_test_data = movie_dev[1600:]"
   ]
  },
  {
   "cell_type": "markdown",
   "id": "bb28c409",
   "metadata": {},
   "source": [
    "Splitting the train_data into two lists, each of 1600 elements, the first, train_texts, containing the texts (as strings) for each document, and the train_target, containing the corresponding 1600 labels. Doing the same for dev_test_data."
   ]
  },
  {
   "cell_type": "code",
   "execution_count": 57,
   "id": "9eb2b4d4",
   "metadata": {},
   "outputs": [],
   "source": [
    "train_texts = []\n",
    "train_target = []\n",
    "for text,label in train_data:\n",
    "    train_texts.append(text)\n",
    "    train_target.append(label)"
   ]
  },
  {
   "cell_type": "code",
   "execution_count": 68,
   "id": "b697ff41",
   "metadata": {},
   "outputs": [],
   "source": [
    "dev_test_texts = []\n",
    "dev_test_target = []\n",
    "for text,label in dev_test_data:\n",
    "    dev_test_texts.append(text)\n",
    "    dev_test_target.append(label)"
   ]
  },
  {
   "cell_type": "markdown",
   "id": "41400a8f",
   "metadata": {},
   "source": [
    "It is then time to extract features from the text. We import"
   ]
  },
  {
   "cell_type": "code",
   "execution_count": 59,
   "id": "fb65fb16",
   "metadata": {},
   "outputs": [],
   "source": [
    "from sklearn.feature_extraction.text import CountVectorizer"
   ]
  },
  {
   "cell_type": "markdown",
   "id": "4fe657f9",
   "metadata": {},
   "source": [
    "We then make a CountVectorizer v. This first considers the whole set of training data, to determine\n",
    "which features to extract:"
   ]
  },
  {
   "cell_type": "code",
   "execution_count": 60,
   "id": "01a204fe",
   "metadata": {},
   "outputs": [
    {
     "data": {
      "text/plain": [
       "CountVectorizer()"
      ]
     },
     "execution_count": 60,
     "metadata": {},
     "output_type": "execute_result"
    }
   ],
   "source": [
    "v = CountVectorizer()\n",
    "v.fit(train_texts)"
   ]
  },
  {
   "cell_type": "markdown",
   "id": "46800d40",
   "metadata": {},
   "source": [
    "Then we use this vectorizer to extract features from the training data and the test data"
   ]
  },
  {
   "cell_type": "code",
   "execution_count": 63,
   "id": "5250c7a2",
   "metadata": {},
   "outputs": [],
   "source": [
    "train_vectors = v.transform(train_texts)\n",
    "dev_test_vectors = v.transform(dev_test_texts)"
   ]
  },
  {
   "cell_type": "markdown",
   "id": "40f8980e",
   "metadata": {},
   "source": [
    "We are now ready to train a classifier. For this task, we chose to use a multinomial naive Bayes text classifier."
   ]
  },
  {
   "cell_type": "code",
   "execution_count": 67,
   "id": "9e9a6c08",
   "metadata": {
    "scrolled": true
   },
   "outputs": [
    {
     "data": {
      "text/plain": [
       "MultinomialNB()"
      ]
     },
     "execution_count": 67,
     "metadata": {},
     "output_type": "execute_result"
    }
   ],
   "source": [
    "clf = MultinomialNB()\n",
    "clf.fit(train_vectors, train_target)"
   ]
  },
  {
   "cell_type": "markdown",
   "id": "4f18a37b",
   "metadata": {},
   "source": [
    "We can proceed and see how the classifier will classify one test document, e.g."
   ]
  },
  {
   "cell_type": "code",
   "execution_count": 69,
   "id": "38af6bfa",
   "metadata": {},
   "outputs": [
    {
     "data": {
      "text/plain": [
       "array(['neg'], dtype='<U3')"
      ]
     },
     "execution_count": 69,
     "metadata": {},
     "output_type": "execute_result"
    }
   ],
   "source": [
    "dev_test_texts[14]\n",
    "clf.predict(dev_test_vectors[14])"
   ]
  },
  {
   "cell_type": "markdown",
   "id": "22fa02f2",
   "metadata": {},
   "source": [
    "We can use the procedure to predict the results for all the test_data, by"
   ]
  },
  {
   "cell_type": "code",
   "execution_count": 70,
   "id": "73d8256c",
   "metadata": {},
   "outputs": [
    {
     "data": {
      "text/plain": [
       "array(['neg', 'neg', 'neg', 'pos', 'pos', 'neg', 'pos', 'neg', 'pos',\n",
       "       'pos', 'pos', 'neg', 'pos', 'pos', 'neg', 'pos', 'pos', 'pos',\n",
       "       'pos', 'pos', 'neg', 'pos', 'neg', 'neg', 'pos', 'neg', 'neg',\n",
       "       'pos', 'pos', 'pos', 'neg', 'pos', 'neg', 'pos', 'pos', 'pos',\n",
       "       'neg', 'neg', 'pos', 'neg', 'pos', 'pos', 'neg', 'pos', 'neg',\n",
       "       'pos', 'pos', 'neg', 'pos', 'neg', 'neg', 'pos', 'neg', 'pos',\n",
       "       'neg', 'neg', 'neg', 'neg', 'neg', 'neg', 'pos', 'neg', 'neg',\n",
       "       'pos', 'neg', 'neg', 'pos', 'pos', 'neg', 'neg', 'pos', 'neg',\n",
       "       'pos', 'neg', 'neg', 'pos', 'pos', 'neg', 'pos', 'pos', 'neg',\n",
       "       'neg', 'neg', 'neg', 'neg', 'pos', 'pos', 'neg', 'pos', 'neg',\n",
       "       'neg', 'neg', 'pos', 'pos', 'pos', 'neg', 'neg', 'neg', 'pos',\n",
       "       'pos', 'pos', 'neg', 'neg', 'neg', 'pos', 'pos', 'neg', 'pos',\n",
       "       'neg', 'neg', 'pos', 'neg', 'neg', 'pos', 'neg', 'neg', 'pos',\n",
       "       'pos', 'neg', 'pos', 'pos', 'neg', 'neg', 'pos', 'neg', 'neg',\n",
       "       'pos', 'neg', 'neg', 'neg', 'neg', 'neg', 'neg', 'neg', 'pos',\n",
       "       'neg', 'pos', 'neg', 'neg', 'neg', 'neg', 'pos', 'pos', 'pos',\n",
       "       'neg', 'neg', 'neg', 'pos', 'neg', 'neg', 'pos', 'neg', 'pos',\n",
       "       'pos', 'pos', 'pos', 'pos', 'pos', 'pos', 'neg', 'neg', 'pos',\n",
       "       'pos', 'neg', 'neg', 'pos', 'neg', 'pos', 'neg', 'pos', 'pos',\n",
       "       'neg', 'neg', 'pos', 'pos', 'neg', 'pos', 'neg', 'neg', 'neg',\n",
       "       'neg', 'neg', 'pos', 'pos', 'neg', 'neg', 'pos', 'pos', 'pos',\n",
       "       'neg', 'neg', 'pos', 'neg', 'pos', 'neg', 'neg', 'neg', 'pos',\n",
       "       'neg', 'neg'], dtype='<U3')"
      ]
     },
     "execution_count": 70,
     "metadata": {},
     "output_type": "execute_result"
    }
   ],
   "source": [
    "clf.predict(dev_test_vectors)"
   ]
  },
  {
   "cell_type": "markdown",
   "id": "457ed5ff",
   "metadata": {},
   "source": [
    "We can use this for further evaluation (accuracy, recall, precision, etc.) by comparing to\n",
    "dev_test_targets. Alternatively, we can get the accuracy directly by"
   ]
  },
  {
   "cell_type": "code",
   "execution_count": 71,
   "id": "2e0efcc1",
   "metadata": {},
   "outputs": [
    {
     "data": {
      "text/plain": [
       "0.855"
      ]
     },
     "execution_count": 71,
     "metadata": {},
     "output_type": "execute_result"
    }
   ],
   "source": [
    "clf.score(dev_test_vectors, dev_test_target)"
   ]
  },
  {
   "cell_type": "markdown",
   "id": "64f57d68",
   "metadata": {},
   "source": [
    "This results in 0.855 accuracy score for a multinomial naive Bayes text classifier."
   ]
  },
  {
   "cell_type": "markdown",
   "id": "108c85a7",
   "metadata": {},
   "source": [
    "### 1b) Parameters of the vectorizer"
   ]
  },
  {
   "cell_type": "markdown",
   "id": "72198fbb",
   "metadata": {},
   "source": [
    "We have so far considered the standard parameters for the procedures from scikit-learn. These procedures have, however, many parameters. To get optimal results, we should adjust the parameters.\n",
    "We can use train_data for training various models and dev_test_data for testing and comparing\n",
    "them."
   ]
  },
  {
   "cell_type": "markdown",
   "id": "fbf75d3b",
   "metadata": {},
   "source": [
    "CountVectorizer case-folds by default. For a different corpus, it could be interesting\n",
    "to check the effect of this feature, but even the movie_reviews.raw() is already in lower case, so that\n",
    "does not have an effect here. We could also have explored the effect of exchanging\n",
    "the default tokenizer included in CountVectorizer with other tokenizers."
   ]
  },
  {
   "cell_type": "markdown",
   "id": "0a4d09b2",
   "metadata": {},
   "source": [
    "Another interesting feature is *binary*. Setting this to True implies only counting whether a word\n",
    "occurs in a document and not how many times it occurs. It could be interesting to see the effect\n",
    "of this feature."
   ]
  },
  {
   "cell_type": "markdown",
   "id": "412eb423",
   "metadata": {},
   "source": [
    "The feature *ngram_range* = [1,1] means we use tokens (=unigrams) only, [2,2] means using bigrams\n",
    "only, while [1,2] means both unigrams and bigrams, and so on."
   ]
  },
  {
   "cell_type": "code",
   "execution_count": 107,
   "id": "4f1de804",
   "metadata": {},
   "outputs": [],
   "source": [
    "def varying_paramters(ngram_range, binary):\n",
    "    v = CountVectorizer(ngram_range = ngram_range, binary = binary)\n",
    "    v.fit(train_texts)\n",
    "\n",
    "    train_vectors = v.transform(train_texts)\n",
    "    dev_test_vectors = v.transform(dev_test_texts)\n",
    "\n",
    "    clf = MultinomialNB()\n",
    "    clf.fit(train_vectors, train_target)\n",
    "    clf.predict(dev_test_vectors)\n",
    "    return clf.score(dev_test_vectors, dev_test_target)\n",
    "\n",
    "n_gram_list = [(1,1),(1,2),(1,3)]\n",
    "binary_list = [False,True]\n",
    "\n",
    "accuracy = {binary_list[0]: [], binary_list[1]:[]}\n",
    "\n",
    "for binary in binary_list:\n",
    "    for ngram_range in n_gram_list:\n",
    "        accuracy[binary].append(varying_paramters(ngram_range, binary))"
   ]
  },
  {
   "cell_type": "code",
   "execution_count": 109,
   "id": "dafa92e6",
   "metadata": {},
   "outputs": [
    {
     "data": {
      "text/html": [
       "<div>\n",
       "<style scoped>\n",
       "    .dataframe tbody tr th:only-of-type {\n",
       "        vertical-align: middle;\n",
       "    }\n",
       "\n",
       "    .dataframe tbody tr th {\n",
       "        vertical-align: top;\n",
       "    }\n",
       "\n",
       "    .dataframe thead th {\n",
       "        text-align: right;\n",
       "    }\n",
       "</style>\n",
       "<table border=\"1\" class=\"dataframe\">\n",
       "  <thead>\n",
       "    <tr style=\"text-align: right;\">\n",
       "      <th></th>\n",
       "      <th>(1, 1)</th>\n",
       "      <th>(1, 2)</th>\n",
       "      <th>(1, 3)</th>\n",
       "    </tr>\n",
       "  </thead>\n",
       "  <tbody>\n",
       "    <tr>\n",
       "      <th>False</th>\n",
       "      <td>0.855</td>\n",
       "      <td>0.865</td>\n",
       "      <td>0.835</td>\n",
       "    </tr>\n",
       "    <tr>\n",
       "      <th>True</th>\n",
       "      <td>0.845</td>\n",
       "      <td>0.885</td>\n",
       "      <td>0.860</td>\n",
       "    </tr>\n",
       "  </tbody>\n",
       "</table>\n",
       "</div>"
      ],
      "text/plain": [
       "       (1, 1)  (1, 2)  (1, 3)\n",
       "False   0.855   0.865   0.835\n",
       "True    0.845   0.885   0.860"
      ]
     },
     "execution_count": 109,
     "metadata": {},
     "output_type": "execute_result"
    }
   ],
   "source": [
    "col1 = [accuracy[binary_list[0]][0], accuracy[binary_list[1]][0]]\n",
    "col2 = [accuracy[binary_list[0]][1], accuracy[binary_list[1]][1]]\n",
    "col3 = [accuracy[binary_list[0]][2], accuracy[binary_list[1]][2]]\n",
    "\n",
    "table = {n_gram_list[0]: col1, n_gram_list[1]:col2,n_gram_list[2]:col3}\n",
    "\n",
    "df = pd.DataFrame(data = table, columns = n_gram_list)\n",
    "df.index = binary_list\n",
    "df"
   ]
  },
  {
   "cell_type": "markdown",
   "id": "09948fc2",
   "metadata": {},
   "source": [
    "It looks like for *ngram_range* paramter for (1,1), the *binary* variable for False gives the best accuracy. But for the other values of *ngram_range*, *binary = True* gives better prediction. The conclusion of this experiment is that we get best results by using unigrams and bigrams tokens (*ngram_range*=(1, 2)), and counting whether a word occurs in a document and not how many times it occurs (*binary=True*)."
   ]
  }
 ],
 "metadata": {
  "kernelspec": {
   "display_name": "Python 3 (ipykernel)",
   "language": "python",
   "name": "python3"
  },
  "language_info": {
   "codemirror_mode": {
    "name": "ipython",
    "version": 3
   },
   "file_extension": ".py",
   "mimetype": "text/x-python",
   "name": "python",
   "nbconvert_exporter": "python",
   "pygments_lexer": "ipython3",
   "version": "3.9.6"
  }
 },
 "nbformat": 4,
 "nbformat_minor": 5
}
