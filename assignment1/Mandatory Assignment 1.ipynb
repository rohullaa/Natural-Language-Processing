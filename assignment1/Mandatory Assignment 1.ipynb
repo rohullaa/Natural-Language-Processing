{
 "cells": [
  {
   "cell_type": "markdown",
   "id": "d101592c",
   "metadata": {},
   "source": [
    "# IN4080 – Natural Language Processing\n",
    "\n",
    "This assignment has two parts:\n",
    "* Part A: Texts and frequencies\n",
    "* Part B: Text classification"
   ]
  },
  {
   "cell_type": "markdown",
   "id": "2612345d",
   "metadata": {},
   "source": [
    "We start with importing the libraries we will be using through the assignment."
   ]
  },
  {
   "cell_type": "code",
   "execution_count": 1,
   "id": "2bc92d8a",
   "metadata": {},
   "outputs": [
    {
     "name": "stdout",
     "output_type": "stream",
     "text": [
      "*** Introductory Examples for the NLTK Book ***\n",
      "Loading text1, ..., text9 and sent1, ..., sent9\n",
      "Type the name of the text or sentence to view it.\n",
      "Type: 'texts()' or 'sents()' to list the materials.\n",
      "text1: Moby Dick by Herman Melville 1851\n",
      "text2: Sense and Sensibility by Jane Austen 1811\n",
      "text3: The Book of Genesis\n",
      "text4: Inaugural Address Corpus\n",
      "text5: Chat Corpus\n",
      "text6: Monty Python and the Holy Grail\n",
      "text7: Wall Street Journal\n",
      "text8: Personals Corpus\n",
      "text9: The Man Who Was Thursday by G . K . Chesterton 1908\n"
     ]
    }
   ],
   "source": [
    "import nltk\n",
    "from nltk.book import *\n",
    "from nltk.corpus import brown"
   ]
  },
  {
   "cell_type": "markdown",
   "id": "dcaba9b1",
   "metadata": {},
   "source": [
    "## Part A: Texts and frequencies"
   ]
  },
  {
   "cell_type": "markdown",
   "id": "c3945c4c",
   "metadata": {},
   "source": [
    "### Exercise 1 – Conditional frequency distributions\n",
    "\n",
    "\n",
    "Brown Corpus is an electronic collection of text samples of American English, the first major structured corpus of varied genres. We will conduct a experiment with this corpus. We are in particular interested in to which degree the different genres use the masculine pronouns (he, him) or the feminine pronouns (she, her). "
   ]
  },
  {
   "cell_type": "markdown",
   "id": "0a219222",
   "metadata": {},
   "source": [
    "**a)** \n",
    "Conducting a experiment with the genres: news, religion,\n",
    "government, fiction, romance as conditions, and occurrences of the words: he, she, her, him,\n",
    "as events. "
   ]
  },
  {
   "cell_type": "code",
   "execution_count": 2,
   "id": "f5551cb4",
   "metadata": {},
   "outputs": [
    {
     "name": "stdout",
     "output_type": "stream",
     "text": [
      "            he she her him \n",
      "   fiction 813 280 397 375 \n",
      "government 120   0   3  25 \n",
      "      news 451  42 103  93 \n",
      "  religion 137  10   8  60 \n",
      "   romance 702 496 651 339 \n"
     ]
    }
   ],
   "source": [
    "genres = ['news', 'religion','government', 'fiction', 'romance']\n",
    "pronouns = ['he', 'she', 'her', 'him']\n",
    "\n",
    "cfd = nltk.ConditionalFreqDist((genre, word)\n",
    "                            for genre in genres\n",
    "                            for word in brown.words(categories=genre))\n",
    "cfd.tabulate(samples=pronouns)"
   ]
  },
  {
   "cell_type": "markdown",
   "id": "2c464926",
   "metadata": {},
   "source": [
    "**b)** It is easy to see that the word 'he' is most used word in all genres. One explanation for this could be that most of the main characters in all genres are man, specially in goverment, news and religion. The feminine objective pronoun is used more than the 'him' in the genre of romance, but used a lot less in the genre of goverment and religion. This is logical, since most of romance genres are about a women while the complete opposite in the case religion and goverment."
   ]
  },
  {
   "cell_type": "markdown",
   "id": "a585cdaa",
   "metadata": {},
   "source": [
    "**c)** \n",
    "\n",
    "Maybe not so surprisingly, the masculine forms are more frequent than the feminine forms across all\n",
    "genres. However, we also observe another pattern. The relative frequency of her compared to she\n",
    "seems higher than the relative frequency of him compared to he. We want to explore this further\n",
    "and make a hypothesis, which we can test.\n",
    "\n",
    "**Hypothesis**: The relative frequency of the objective form, her, of the feminine personal pronoun (she or\n",
    "her) is higher than the relative frequency of the objective form, him, of the masculine personal\n",
    "pronoun, (he or him).\n",
    "\n",
    "We will construct a conditional frequency distribution to test this hypothesis, which uses gender as condition, and for each gender counts the occurrences of nominative forms (he, she) and objective forms (him, her)."
   ]
  },
  {
   "cell_type": "code",
   "execution_count": 3,
   "id": "cce0290d",
   "metadata": {},
   "outputs": [],
   "source": [
    "genders = ['Male','Female']\n",
    "\n",
    "cfd = nltk.ConditionalFreqDist()\n",
    "for word in brown.words():\n",
    "    word = word.lower()\n",
    "    if word == 'he' or word == 'him':\n",
    "        cfd[genders[0]][word] += 1\n",
    "    if word == 'she' or word == 'her':\n",
    "        cfd[genders[1]][word] += 1"
   ]
  },
  {
   "cell_type": "code",
   "execution_count": 4,
   "id": "51676c44",
   "metadata": {},
   "outputs": [
    {
     "name": "stdout",
     "output_type": "stream",
     "text": [
      "         he  she  her  him \n",
      "Female    0 2860 3036    0 \n",
      "  Male 9548    0    0 2619 \n"
     ]
    }
   ],
   "source": [
    "cfd.tabulate(samples = pronouns)"
   ]
  },
  {
   "cell_type": "code",
   "execution_count": 5,
   "id": "328b6d89",
   "metadata": {
    "scrolled": true
   },
   "outputs": [
    {
     "name": "stdout",
     "output_type": "stream",
     "text": [
      "Relative frequency of him: 0.2153\n",
      "Relative frequency of her: 0.5149\n"
     ]
    }
   ],
   "source": [
    "def find_sum(gender):\n",
    "    sum_freq = 0\n",
    "    for pro in cfd[gender]:\n",
    "        sum_freq += cfd[gender][pro]\n",
    "    return sum_freq\n",
    "\n",
    "male_rel_freq = cfd['Male']['him']/(find_sum('Male'))\n",
    "female_rel_freq = cfd['Female']['her']/(find_sum('Female'))\n",
    "\n",
    "print(f'Relative frequency of him: {male_rel_freq:3.4f}')\n",
    "print(f'Relative frequency of her: {female_rel_freq:3.4f}')"
   ]
  },
  {
   "cell_type": "markdown",
   "id": "173548a4",
   "metadata": {},
   "source": [
    "We can see here that the objective form of the feminine pronoun is relatively\n",
    "more frequent than the objective form of the male pronoun. "
   ]
  },
  {
   "cell_type": "markdown",
   "id": "9a127233",
   "metadata": {},
   "source": [
    "**d)** It is tempting to conclude from this that the objective form of the feminine pronoun is relatively\n",
    "more frequent than the objective form of the male pronoun. Beware, however, her is not only the\n",
    "feminine equivalent of him, but also of his. \n",
    "\n",
    "We use a tagged corpus, which separates between the two forms of her,\n",
    "i.e, if the corpus tags her as a personal pronoun differently from her as a possessive pronoun\n",
    "(determiner). The tagged Brown corpus does that. We will use this to count the occurrences of she,\n",
    "he, her, him as personal pronouns and her, his, hers as possessive pronouns."
   ]
  },
  {
   "cell_type": "code",
   "execution_count": 6,
   "id": "bce6696f",
   "metadata": {},
   "outputs": [],
   "source": [
    "#chose to have universal pos tags\n",
    "tag_brown = [x for x in brown.tagged_words(tagset='universal')]\n",
    "\n",
    "pers_pronoun = ['she','he','her','him']\n",
    "poss_pronoun = ['her','his','hers']\n",
    "\n",
    "total_pronoun = set(pers_pronoun + poss_pronoun )"
   ]
  },
  {
   "cell_type": "code",
   "execution_count": 7,
   "id": "8326960d",
   "metadata": {},
   "outputs": [],
   "source": [
    "cfd_new = nltk.ConditionalFreqDist()\n",
    "\n",
    "def make_cfd(list_of_pronoun, type_of_pronoun):\n",
    "    for i in range(len(tag_brown)):\n",
    "        word = tag_brown[i][0].lower()\n",
    "        if word in list_of_pronoun and tag_brown[i][1] == type_of_pronoun:\n",
    "            cfd_new[tag_brown[i][1]][word] += 1\n",
    "make_cfd(pers_pronoun,'PRON')\n",
    "make_cfd(poss_pronoun,'DET')"
   ]
  },
  {
   "cell_type": "code",
   "execution_count": 8,
   "id": "4e4a4d40",
   "metadata": {},
   "outputs": [
    {
     "name": "stdout",
     "output_type": "stream",
     "text": [
      "      his  she   he hers  him  her \n",
      " DET 6957    0    0    0    0 1929 \n",
      "PRON    0 2860 9546    0 2619 1107 \n"
     ]
    }
   ],
   "source": [
    "cfd_new.tabulate(samples = total_pronoun)"
   ]
  },
  {
   "cell_type": "markdown",
   "id": "1219fe67",
   "metadata": {},
   "source": [
    "**e)**\n",
    "We can now correct the numbers from point (b) above. "
   ]
  },
  {
   "cell_type": "code",
   "execution_count": 9,
   "id": "b01ad772",
   "metadata": {},
   "outputs": [
    {
     "name": "stdout",
     "output_type": "stream",
     "text": [
      "Relative frequency of him as possessive pronoun: 0.7829\n",
      "Relative frequency of her as possessive pronoun: 0.2171\n",
      "Relative frequency of her as objective pronoun: 0.0686\n"
     ]
    }
   ],
   "source": [
    "def find_sum(pro_type, list_of_pro):\n",
    "    sum_freq = 0\n",
    "    for word in list_of_pro:\n",
    "        sum_freq += cfd_new[pro_type][word]\n",
    "    return sum_freq\n",
    "\n",
    "det_her = cfd_new['DET']['her']/find_sum('DET', poss_pronoun)\n",
    "pron_her = cfd_new['PRON']['her']/find_sum('PRON', pers_pronoun)\n",
    "non_she = cfd_new['PRON']['she']/find_sum('PRON', pers_pronoun)\n",
    "\n",
    "\n",
    "det_him = cfd_new['DET']['his']/find_sum('DET', poss_pronoun)\n",
    "non_he = cfd_new['PRON']['he']/find_sum('PRON', pers_pronoun)\n",
    "\n",
    "print(f'Relative frequency of him as possessive pronoun: {det_him:3.4f}')\n",
    "print(f'Relative frequency of her as possessive pronoun: {det_her:3.4f}')\n",
    "print(f'Relative frequency of her as objective pronoun: {pron_her:3.4f}')"
   ]
  },
  {
   "cell_type": "markdown",
   "id": "0674f6ae",
   "metadata": {},
   "source": [
    "**f)** Illustrating the numbers from (d) with a bar chart."
   ]
  },
  {
   "cell_type": "code",
   "execution_count": 12,
   "id": "bcb781ca",
   "metadata": {},
   "outputs": [
    {
     "data": {
      "image/png": "[encoded data removed]",
      "text/plain": [
       "<Figure size 432x288 with 1 Axes>"
      ]
     },
     "metadata": {
      "needs_background": "light"
     },
     "output_type": "display_data"
    }
   ],
   "source": [
    "import numpy as np\n",
    "import matplotlib.pyplot as plt\n",
    "\n",
    "xticks = cfd_new.keys()\n",
    "x = np.arange(0, len(cfd_new.keys()))\n",
    "height = np.zeros(len(cfd_new.keys()))\n",
    "\n",
    "for i, p in enumerate(total_pronoun):\n",
    "    y = []    \n",
    "    for j, genre in enumerate(['DET','PRON']):\n",
    "        y.append(cfd_new[genre][p])\n",
    "    plt.bar(x, y, label=p, bottom=height)\n",
    "    height += y\n",
    "\n",
    "plt.xticks(np.arange(0, len(xticks)), xticks)\n",
    "plt.legend()\n",
    "plt.show()"
   ]
  },
  {
   "cell_type": "markdown",
   "id": "17a022cb",
   "metadata": {},
   "source": [
    "**g)** We can see that the masculine pronoun is more frequent than the feminine pronoun in the Brown corpus. This corpus was compiled from works published in the United States in 1961. In that periode, the American society was mainly male dominated. Specially in the fields of goverment, relgion and cultural activities. This can be seen from our analysis as well. For example, the word 'she' and 'her' was only mentioned 3 times in the genre of goverment (task a). From task f, we found that the 'her' has two different distribution for possessive and objective pronouns while the masculine pronoun has no objective pronoun. This, again, could be a result of the male dominated society where the female gender were looked at from a objective point of view. \n",
    "\n",
    "This exercise demonstrate the consequences for the development of language technology. A word can have different meanings in different contexts, and this makes it difficult to make a general analysis. We must differentiate the different meanings of the words in the text."
   ]
  },
  {
   "cell_type": "markdown",
   "id": "fa01beed",
   "metadata": {},
   "source": [
    "## Exercise 2 – Downloading texts and Zipf’s law"
   ]
  },
  {
   "cell_type": "markdown",
   "id": "368a1796",
   "metadata": {},
   "source": [
    "We start by downloading the text we want to analyze. "
   ]
  },
  {
   "cell_type": "code",
   "execution_count": 14,
   "id": "e10d6c38",
   "metadata": {},
   "outputs": [],
   "source": [
    "from urllib import request\n",
    "url = \"https://www.gutenberg.org/files/74/74-0.txt\"\n",
    "response = request.urlopen(url)\n",
    "raw_data = response.read().decode('utf-8')"
   ]
  },
  {
   "cell_type": "markdown",
   "id": "2e23782d",
   "metadata": {},
   "source": [
    "**b)** We want to remove the unnecarrary data by removing the extra headlines, the list of contents and the extra text at the end of the book.  "
   ]
  },
  {
   "cell_type": "code",
   "execution_count": 15,
   "id": "b9d4c762",
   "metadata": {},
   "outputs": [],
   "source": [
    "#splitting the raw_data into a list.\n",
    "raw_data_list = raw_data.split()\n",
    "\n",
    "#finding the deleting indecies, ego. \"***\"\n",
    "delete_start = [i for i in range(len(raw_data_list)) if raw_data_list[i] == '1876.']\n",
    "delete_end = [i for i in range(len(raw_data_list)) if raw_data_list[i] == '***'] \n",
    "\n",
    "#slicing out the extra headlines. \n",
    "raw_data_list = raw_data_list[delete_start[0]+1:delete_end[2]]"
   ]
  },
  {
   "cell_type": "markdown",
   "id": "84beaec9",
   "metadata": {},
   "source": [
    "**c)** We can now extract the words. We are interested in the words used in the book and their\n",
    "distribution. We are, e.g. not interested in punctuation marks. In this code, I have removed stored the words, numbers, punc_marks and other tokens in their separate lists."
   ]
  },
  {
   "cell_type": "code",
   "execution_count": 16,
   "id": "cd1607a4",
   "metadata": {},
   "outputs": [],
   "source": [
    "# tokenizing the data\n",
    "token_data = nltk.word_tokenize(' '.join([str(w) for w in raw_data_list]))\n",
    "words = []\n",
    "numbers = []\n",
    "punc_marks = []\n",
    "other_tokens = []\n",
    "\n",
    "punctuation = '!\"#$%&\\'()*+,-./:;<=>?@[\\\\]^_`{|}~—'\n",
    "for word in token_data:\n",
    "    word = word.lower()\n",
    "    if word.isalpha():\n",
    "        words.append(word)\n",
    "    elif word.isdigit():\n",
    "        numbers.append(word)\n",
    "    elif word in punctuation: \n",
    "        punc_marks.append(word)\n",
    "    else:\n",
    "        other_tokens.append(word)"
   ]
  },
  {
   "cell_type": "markdown",
   "id": "3d88090a",
   "metadata": {},
   "source": [
    "Printing the different lists just to see how the elements look like."
   ]
  },
  {
   "cell_type": "code",
   "execution_count": 21,
   "id": "d8c57214",
   "metadata": {},
   "outputs": [
    {
     "name": "stdout",
     "output_type": "stream",
     "text": [
      "### WORDS: ###\n",
      "chapter i tom no answer tom no answer what s gone with that boy i wonder you tom no answer the old lady pulled her spectacles down and looked over them about the room then she put them up and looked out under them she seldom or never looked them  \n",
      "### NUMBERS: ###\n",
      "2 2 2 2 2 2 2 2 2  \n",
      "### PUNC_MARKS: ###\n",
      "! . ! . , ? ! . ; . ; , , , . , , , : , , , . . ! . . : ! . ! . ? ! . . ? , , . . . ! , ! , . , , .  \n",
      "### OTHER_TOKENS: ###\n",
      "“ ” “ ” “ ’ ” _through_ “ ” service—she stove-lids “ ’ ll— ” “ ” “ ” “ y-o-u-u ” “ ’ ’ ” “ nothing. ” “ _is_ ” “ ’ aunt. ” “ ’ jam—that ’ ’ ’ ’ switch. ” air—the desperate— “ ”  \n"
     ]
    }
   ],
   "source": [
    "def print_lists(s, the_list):\n",
    "    print(s)\n",
    "    for l in the_list[0:50]:\n",
    "        print(l,end=' ')\n",
    "    print(\" \")\n",
    "print_lists('### WORDS: ###', words)\n",
    "print_lists('### NUMBERS: ###', numbers)\n",
    "print_lists('### PUNC_MARKS: ###',punc_marks)\n",
    "print_lists('### OTHER_TOKENS: ###', other_tokens)"
   ]
  },
  {
   "cell_type": "markdown",
   "id": "1e42c006",
   "metadata": {},
   "source": [
    "We can see that the list for \"other_tokens\" contains a lot of words, but since they have some kind som puntuation mark in it they have been putted on *other_tokens*. We have to clean these words and insert them in the correct list."
   ]
  },
  {
   "cell_type": "code",
   "execution_count": 22,
   "id": "7a7fbf82",
   "metadata": {},
   "outputs": [],
   "source": [
    "for _ in range(1000):\n",
    "    for o in other_tokens:\n",
    "        #if the token contains words with punc_mark\n",
    "        if any(x.isalpha() for x in o) and any(x in punctuation for x in o):\n",
    "            other_tokens.pop(other_tokens.index(o))\n",
    "            for char in o:\n",
    "                if char in punctuation:\n",
    "                    o = o.split(char)\n",
    "                    break\n",
    "            o = [w for w in o if w != '']\n",
    "            for w in o:    \n",
    "                words.append(w)"
   ]
  },
  {
   "cell_type": "markdown",
   "id": "3ccf2908",
   "metadata": {},
   "source": [
    "**d)** Using the the nltk.FreqDist() to count the words. The 20 most frequent words in a table\n",
    "with their absolute frequencies:"
   ]
  },
  {
   "cell_type": "code",
   "execution_count": 24,
   "id": "8569cbed",
   "metadata": {
    "scrolled": true
   },
   "outputs": [
    {
     "name": "stdout",
     "output_type": "stream",
     "text": [
      "The 20 most frequent words:\n",
      "the: 3702\n",
      "and: 3104\n",
      "a: 1861\n",
      "to: 1715\n",
      "of: 1435\n",
      "it: 1315\n",
      "he: 1252\n",
      "was: 1168\n",
      "that: 1025\n",
      "i: 1015\n",
      "in: 941\n",
      "you: 893\n",
      "s: 845\n",
      "his: 815\n",
      "tom: 773\n",
      "t: 678\n",
      "with: 647\n",
      "they: 616\n",
      "but: 579\n",
      "for: 525\n"
     ]
    }
   ],
   "source": [
    "freq_dist = nltk.FreqDist(words)\n",
    "\n",
    "import itertools\n",
    "import operator\n",
    "\n",
    "sorted_freq_dist = dict(sorted(freq_dist.items(), key=operator.itemgetter(1),reverse=True))\n",
    "sorted_freq_dist = dict(itertools.islice(sorted_freq_dist.items(), 20))\n",
    "\n",
    "print(\"The 20 most frequent words:\")\n",
    "for key in sorted_freq_dist:\n",
    "    print(f'{key}: {freq_dist[key]}')"
   ]
  },
  {
   "cell_type": "markdown",
   "id": "82158f61",
   "metadata": {},
   "source": [
    "**e)** The frequencies of frequencies."
   ]
  },
  {
   "cell_type": "code",
   "execution_count": 25,
   "id": "2c1427f0",
   "metadata": {},
   "outputs": [],
   "source": [
    "freq = nltk.FreqDist()\n",
    "selection = ['1 time','2-10 times', '11-50 times','51-100 times','100+ times']\n",
    "\n",
    "for k in freq_dist:\n",
    "    if freq_dist[k] == 1 :\n",
    "        freq[selection[0]] += 1\n",
    "    elif freq_dist[k] >= 2 and freq_dist[k] <= 10:\n",
    "        freq[selection[1]] += 1\n",
    "    elif freq_dist[k] >= 11 and freq_dist[k] <=50:\n",
    "        freq[selection[2]] += 1\n",
    "    elif freq_dist[k] >= 51 and freq_dist[k] <=100:\n",
    "        freq[selection[3]] += 1\n",
    "    else:\n",
    "        freq[selection[4]] += 1"
   ]
  },
  {
   "cell_type": "code",
   "execution_count": 26,
   "id": "f089fe6d",
   "metadata": {},
   "outputs": [
    {
     "data": {
      "text/html": [
       "<div>\n",
       "<style scoped>\n",
       "    .dataframe tbody tr th:only-of-type {\n",
       "        vertical-align: middle;\n",
       "    }\n",
       "\n",
       "    .dataframe tbody tr th {\n",
       "        vertical-align: top;\n",
       "    }\n",
       "\n",
       "    .dataframe thead th {\n",
       "        text-align: right;\n",
       "    }\n",
       "</style>\n",
       "<table border=\"1\" class=\"dataframe\">\n",
       "  <thead>\n",
       "    <tr style=\"text-align: right;\">\n",
       "      <th></th>\n",
       "      <th>Words occurring:</th>\n",
       "      <th>Frequencies of frequencies:</th>\n",
       "    </tr>\n",
       "  </thead>\n",
       "  <tbody>\n",
       "    <tr>\n",
       "      <th>0</th>\n",
       "      <td>1 time</td>\n",
       "      <td>3549</td>\n",
       "    </tr>\n",
       "    <tr>\n",
       "      <th>1</th>\n",
       "      <td>2-10 times</td>\n",
       "      <td>2988</td>\n",
       "    </tr>\n",
       "    <tr>\n",
       "      <th>2</th>\n",
       "      <td>11-50 times</td>\n",
       "      <td>496</td>\n",
       "    </tr>\n",
       "    <tr>\n",
       "      <th>3</th>\n",
       "      <td>100+ times</td>\n",
       "      <td>110</td>\n",
       "    </tr>\n",
       "    <tr>\n",
       "      <th>4</th>\n",
       "      <td>51-100 times</td>\n",
       "      <td>85</td>\n",
       "    </tr>\n",
       "  </tbody>\n",
       "</table>\n",
       "</div>"
      ],
      "text/plain": [
       "  Words occurring:  Frequencies of frequencies:\n",
       "0           1 time                         3549\n",
       "1       2-10 times                         2988\n",
       "2      11-50 times                          496\n",
       "3       100+ times                          110\n",
       "4     51-100 times                           85"
      ]
     },
     "execution_count": 26,
     "metadata": {},
     "output_type": "execute_result"
    }
   ],
   "source": [
    "import pandas as pd\n",
    "\n",
    "col_keys = []\n",
    "col_values = []\n",
    "for k in freq:\n",
    "    col_keys.append(k)\n",
    "    col_values.append(freq[k])\n",
    "    \n",
    "pd.DataFrame.from_dict(data = {'Words occurring:':col_keys,'Frequencies of frequencies:': col_values})"
   ]
  },
  {
   "cell_type": "markdown",
   "id": "dcbe6b89",
   "metadata": {},
   "source": [
    "We can see that there are alot of words that only occur one time and there are words that occur only 85 occurrences of the words that have been occured 51-100 times. Below, a plot of this table is shown."
   ]
  },
  {
   "cell_type": "code",
   "execution_count": 27,
   "id": "f639c36e",
   "metadata": {},
   "outputs": [
    {
     "data": {
      "text/plain": [
       "Text(0, 0.5, 'Frequencies of frequencies')"
      ]
     },
     "execution_count": 27,
     "metadata": {},
     "output_type": "execute_result"
    },
    {
     "data": {
      "image/png": "[encoded data removed]",
      "text/plain": [
       "<Figure size 432x288 with 1 Axes>"
      ]
     },
     "metadata": {
      "needs_background": "light"
     },
     "output_type": "display_data"
    }
   ],
   "source": [
    "plt.bar(col_keys,col_values)\n",
    "plt.xticks(rotation=45)\n",
    "plt.ylabel(\"Frequencies of frequencies\")"
   ]
  },
  {
   "cell_type": "markdown",
   "id": "fa9cfaa4",
   "metadata": {},
   "source": [
    "**f)** We order the words by their frequencies, the most frequent word first. We will use the same result as the task **d** for finding the 20 most frequent words."
   ]
  },
  {
   "cell_type": "code",
   "execution_count": 28,
   "id": "9e57d79b",
   "metadata": {},
   "outputs": [],
   "source": [
    "#the 20 most frequent words\n",
    "sorted_freq_dist = dict(itertools.islice(sorted_freq_dist.items(), 20))\n",
    "ranks = range(1,21)\n",
    "zipf_constant = [i*sorted_freq_dist[k] for i,k in zip(ranks,sorted_freq_dist)]\n",
    "occurrences = [sorted_freq_dist[k] for k in sorted_freq_dist]"
   ]
  },
  {
   "cell_type": "code",
   "execution_count": 29,
   "id": "794be770",
   "metadata": {},
   "outputs": [
    {
     "data": {
      "text/html": [
       "<div>\n",
       "<style scoped>\n",
       "    .dataframe tbody tr th:only-of-type {\n",
       "        vertical-align: middle;\n",
       "    }\n",
       "\n",
       "    .dataframe tbody tr th {\n",
       "        vertical-align: top;\n",
       "    }\n",
       "\n",
       "    .dataframe thead th {\n",
       "        text-align: right;\n",
       "    }\n",
       "</style>\n",
       "<table border=\"1\" class=\"dataframe\">\n",
       "  <thead>\n",
       "    <tr style=\"text-align: right;\">\n",
       "      <th></th>\n",
       "      <th>Ranks:</th>\n",
       "      <th>Occurrences</th>\n",
       "      <th>Zipf law:</th>\n",
       "    </tr>\n",
       "  </thead>\n",
       "  <tbody>\n",
       "    <tr>\n",
       "      <th>0</th>\n",
       "      <td>1</td>\n",
       "      <td>3702</td>\n",
       "      <td>3702</td>\n",
       "    </tr>\n",
       "    <tr>\n",
       "      <th>1</th>\n",
       "      <td>2</td>\n",
       "      <td>3104</td>\n",
       "      <td>6208</td>\n",
       "    </tr>\n",
       "    <tr>\n",
       "      <th>2</th>\n",
       "      <td>3</td>\n",
       "      <td>1861</td>\n",
       "      <td>5583</td>\n",
       "    </tr>\n",
       "    <tr>\n",
       "      <th>3</th>\n",
       "      <td>4</td>\n",
       "      <td>1715</td>\n",
       "      <td>6860</td>\n",
       "    </tr>\n",
       "    <tr>\n",
       "      <th>4</th>\n",
       "      <td>5</td>\n",
       "      <td>1435</td>\n",
       "      <td>7175</td>\n",
       "    </tr>\n",
       "    <tr>\n",
       "      <th>5</th>\n",
       "      <td>6</td>\n",
       "      <td>1315</td>\n",
       "      <td>7890</td>\n",
       "    </tr>\n",
       "    <tr>\n",
       "      <th>6</th>\n",
       "      <td>7</td>\n",
       "      <td>1252</td>\n",
       "      <td>8764</td>\n",
       "    </tr>\n",
       "    <tr>\n",
       "      <th>7</th>\n",
       "      <td>8</td>\n",
       "      <td>1168</td>\n",
       "      <td>9344</td>\n",
       "    </tr>\n",
       "    <tr>\n",
       "      <th>8</th>\n",
       "      <td>9</td>\n",
       "      <td>1025</td>\n",
       "      <td>9225</td>\n",
       "    </tr>\n",
       "    <tr>\n",
       "      <th>9</th>\n",
       "      <td>10</td>\n",
       "      <td>1015</td>\n",
       "      <td>10150</td>\n",
       "    </tr>\n",
       "    <tr>\n",
       "      <th>10</th>\n",
       "      <td>11</td>\n",
       "      <td>941</td>\n",
       "      <td>10351</td>\n",
       "    </tr>\n",
       "    <tr>\n",
       "      <th>11</th>\n",
       "      <td>12</td>\n",
       "      <td>893</td>\n",
       "      <td>10716</td>\n",
       "    </tr>\n",
       "    <tr>\n",
       "      <th>12</th>\n",
       "      <td>13</td>\n",
       "      <td>845</td>\n",
       "      <td>10985</td>\n",
       "    </tr>\n",
       "    <tr>\n",
       "      <th>13</th>\n",
       "      <td>14</td>\n",
       "      <td>815</td>\n",
       "      <td>11410</td>\n",
       "    </tr>\n",
       "    <tr>\n",
       "      <th>14</th>\n",
       "      <td>15</td>\n",
       "      <td>773</td>\n",
       "      <td>11595</td>\n",
       "    </tr>\n",
       "    <tr>\n",
       "      <th>15</th>\n",
       "      <td>16</td>\n",
       "      <td>678</td>\n",
       "      <td>10848</td>\n",
       "    </tr>\n",
       "    <tr>\n",
       "      <th>16</th>\n",
       "      <td>17</td>\n",
       "      <td>647</td>\n",
       "      <td>10999</td>\n",
       "    </tr>\n",
       "    <tr>\n",
       "      <th>17</th>\n",
       "      <td>18</td>\n",
       "      <td>616</td>\n",
       "      <td>11088</td>\n",
       "    </tr>\n",
       "    <tr>\n",
       "      <th>18</th>\n",
       "      <td>19</td>\n",
       "      <td>579</td>\n",
       "      <td>11001</td>\n",
       "    </tr>\n",
       "    <tr>\n",
       "      <th>19</th>\n",
       "      <td>20</td>\n",
       "      <td>525</td>\n",
       "      <td>10500</td>\n",
       "    </tr>\n",
       "  </tbody>\n",
       "</table>\n",
       "</div>"
      ],
      "text/plain": [
       "    Ranks:  Occurrences  Zipf law:\n",
       "0        1         3702       3702\n",
       "1        2         3104       6208\n",
       "2        3         1861       5583\n",
       "3        4         1715       6860\n",
       "4        5         1435       7175\n",
       "5        6         1315       7890\n",
       "6        7         1252       8764\n",
       "7        8         1168       9344\n",
       "8        9         1025       9225\n",
       "9       10         1015      10150\n",
       "10      11          941      10351\n",
       "11      12          893      10716\n",
       "12      13          845      10985\n",
       "13      14          815      11410\n",
       "14      15          773      11595\n",
       "15      16          678      10848\n",
       "16      17          647      10999\n",
       "17      18          616      11088\n",
       "18      19          579      11001\n",
       "19      20          525      10500"
      ]
     },
     "execution_count": 29,
     "metadata": {},
     "output_type": "execute_result"
    }
   ],
   "source": [
    "pd.DataFrame.from_dict(data = {'Ranks:':ranks,'Occurrences': occurrences, 'Zipf law:': zipf_constant})"
   ]
  },
  {
   "cell_type": "markdown",
   "id": "2161530b",
   "metadata": {},
   "source": [
    "**g)** Now we can plot the rank against frequency for all words. First, make a plot where you use linear scale on the axes. Then try to make a plot similarly to the [Wikipedia figure](https://en.wikipedia.org/wiki/Zipf%27s_law) with logarithmic scales at both axes."
   ]
  },
  {
   "cell_type": "code",
   "execution_count": 30,
   "id": "b587a3c0",
   "metadata": {},
   "outputs": [
    {
     "data": {
      "image/png": "[encoded data removed]",
      "text/plain": [
       "<Figure size 432x288 with 1 Axes>"
      ]
     },
     "metadata": {
      "needs_background": "light"
     },
     "output_type": "display_data"
    },
    {
     "data": {
      "image/png": "[encoded data removed]",
      "text/plain": [
       "<Figure size 432x288 with 1 Axes>"
      ]
     },
     "metadata": {
      "needs_background": "light"
     },
     "output_type": "display_data"
    }
   ],
   "source": [
    "sorted_freq_dist = dict(sorted(freq_dist.items(), key=operator.itemgetter(1),reverse=True))\n",
    "occurences = np.array([sorted_freq_dist[k] for k in sorted_freq_dist])\n",
    "ranks = np.linspace(1,len(occurences), len(occurences))\n",
    "\n",
    "plt.plot(ranks, occurences,'k',label='linear scale')\n",
    "plt.xlabel('ranks')\n",
    "plt.ylabel('frequency')\n",
    "plt.title(\"Zipf's law\")\n",
    "plt.legend()\n",
    "plt.figure()\n",
    "\n",
    "plt.plot(np.log(ranks),np.log(occurences),'k',label='log scales')\n",
    "plt.xlabel('log(ranks)')\n",
    "plt.ylabel('log(frequency)')\n",
    "plt.title(\"Zipf's law\")\n",
    "plt.legend()\n",
    "plt.show()"
   ]
  },
  {
   "cell_type": "markdown",
   "id": "1386a29b",
   "metadata": {},
   "source": [
    "We can see here that the plot is quite good approximation to the Zipf's law."
   ]
  },
  {
   "cell_type": "markdown",
   "id": "66b4ec9c",
   "metadata": {},
   "source": [
    "## Part B: Text classification"
   ]
  },
  {
   "cell_type": "markdown",
   "id": "9d8c5177",
   "metadata": {},
   "source": [
    "## 1) First classifier and vectorization"
   ]
  },
  {
   "cell_type": "markdown",
   "id": "63ee4a53",
   "metadata": {},
   "source": [
    "### 1a) Inititial classifier"
   ]
  },
  {
   "cell_type": "markdown",
   "id": "cc126626",
   "metadata": {},
   "source": [
    "We will work interactively in python/ipython/Jupyter notebook. Start by importing the tools we\n",
    "will be using:"
   ]
  },
  {
   "cell_type": "code",
   "execution_count": 31,
   "id": "51165064",
   "metadata": {},
   "outputs": [],
   "source": [
    "import nltk\n",
    "import random\n",
    "import numpy as np\n",
    "import scipy as sp\n",
    "import sklearn\n",
    "from sklearn.feature_extraction.text import CountVectorizer\n",
    "from sklearn.naive_bayes import MultinomialNB\n",
    "from sklearn.linear_model import LogisticRegression"
   ]
  },
  {
   "cell_type": "markdown",
   "id": "b52ea29d",
   "metadata": {},
   "source": [
    "In this task we will use Movie Reviews Corpus from the NLTK package."
   ]
  },
  {
   "cell_type": "code",
   "execution_count": 32,
   "id": "0647eb28",
   "metadata": {},
   "outputs": [],
   "source": [
    "from nltk.corpus import movie_reviews"
   ]
  },
  {
   "cell_type": "code",
   "execution_count": 33,
   "id": "c0dc59ff",
   "metadata": {},
   "outputs": [],
   "source": [
    "raw_movie_docs = [(movie_reviews.raw(fileid), category) for\n",
    "category in movie_reviews.categories() for fileid in\n",
    "movie_reviews.fileids(category)]"
   ]
  },
  {
   "cell_type": "markdown",
   "id": "bd51e06e",
   "metadata": {},
   "source": [
    "We will shuffle the data and split it into 200 documents for final testing (which we will not use for\n",
    "a while) and 1800 documents for development. Use your birth date as random seed."
   ]
  },
  {
   "cell_type": "code",
   "execution_count": 34,
   "id": "84914f9b",
   "metadata": {},
   "outputs": [],
   "source": [
    "random.seed(2920)\n",
    "random.shuffle(raw_movie_docs)\n",
    "movie_test = raw_movie_docs[:200]\n",
    "movie_dev = raw_movie_docs[200:]"
   ]
  },
  {
   "cell_type": "markdown",
   "id": "e5bec0b5",
   "metadata": {},
   "source": [
    "Then split the development data into 1600 documents for training and 200 for development test\n",
    "set."
   ]
  },
  {
   "cell_type": "code",
   "execution_count": 35,
   "id": "ba76f259",
   "metadata": {},
   "outputs": [],
   "source": [
    "train_data = movie_dev[:1600]\n",
    "dev_test_data = movie_dev[1600:]"
   ]
  },
  {
   "cell_type": "markdown",
   "id": "8e5722f8",
   "metadata": {},
   "source": [
    "Splitting the train_data into two lists, each of 1600 elements, the first, train_texts, containing the texts (as strings) for each document, and the train_target, containing the corresponding 1600 labels. Doing the same for dev_test_data."
   ]
  },
  {
   "cell_type": "code",
   "execution_count": 36,
   "id": "573d2db3",
   "metadata": {},
   "outputs": [],
   "source": [
    "def split_text_and_target(trian_list):\n",
    "    texts = []\n",
    "    targets = []\n",
    "    for text,label in trian_list:\n",
    "        texts.append(text)\n",
    "        targets.append(label)\n",
    "\n",
    "    return texts,targets"
   ]
  },
  {
   "cell_type": "code",
   "execution_count": 37,
   "id": "7f33140f",
   "metadata": {},
   "outputs": [],
   "source": [
    "train_texts, train_target = split_text_and_target(train_data)\n",
    "dev_test_texts, dev_test_target = split_text_and_target(dev_test_data)"
   ]
  },
  {
   "cell_type": "markdown",
   "id": "774180b6",
   "metadata": {},
   "source": [
    "It is then time to extract features from the text. We import"
   ]
  },
  {
   "cell_type": "code",
   "execution_count": 38,
   "id": "3fa4c0e7",
   "metadata": {},
   "outputs": [],
   "source": [
    "from sklearn.feature_extraction.text import CountVectorizer"
   ]
  },
  {
   "cell_type": "markdown",
   "id": "f63269f8",
   "metadata": {},
   "source": [
    "We then make a CountVectorizer v. This first considers the whole set of training data, to determine\n",
    "which features to extract:"
   ]
  },
  {
   "cell_type": "code",
   "execution_count": 39,
   "id": "5936c788",
   "metadata": {},
   "outputs": [
    {
     "data": {
      "text/plain": [
       "CountVectorizer()"
      ]
     },
     "execution_count": 39,
     "metadata": {},
     "output_type": "execute_result"
    }
   ],
   "source": [
    "v = CountVectorizer()\n",
    "v.fit(train_texts)"
   ]
  },
  {
   "cell_type": "markdown",
   "id": "ab21c394",
   "metadata": {},
   "source": [
    "Then we use this vectorizer to extract features from the training data and the test data"
   ]
  },
  {
   "cell_type": "code",
   "execution_count": 40,
   "id": "ce466fbf",
   "metadata": {},
   "outputs": [],
   "source": [
    "train_vectors = v.transform(train_texts)\n",
    "dev_test_vectors = v.transform(dev_test_texts)"
   ]
  },
  {
   "cell_type": "markdown",
   "id": "52a746cb",
   "metadata": {},
   "source": [
    "We are now ready to train a classifier. For this task, we chose to use a multinomial naive Bayes text classifier."
   ]
  },
  {
   "cell_type": "code",
   "execution_count": 41,
   "id": "6b6b1a2a",
   "metadata": {
    "scrolled": false
   },
   "outputs": [
    {
     "data": {
      "text/plain": [
       "MultinomialNB()"
      ]
     },
     "execution_count": 41,
     "metadata": {},
     "output_type": "execute_result"
    }
   ],
   "source": [
    "clf = MultinomialNB()\n",
    "clf.fit(train_vectors, train_target)"
   ]
  },
  {
   "cell_type": "markdown",
   "id": "3db3a520",
   "metadata": {},
   "source": [
    "We can proceed and see how the classifier will classify one test document, e.g."
   ]
  },
  {
   "cell_type": "code",
   "execution_count": 42,
   "id": "c674ab36",
   "metadata": {},
   "outputs": [
    {
     "data": {
      "text/plain": [
       "array(['neg'], dtype='<U3')"
      ]
     },
     "execution_count": 42,
     "metadata": {},
     "output_type": "execute_result"
    }
   ],
   "source": [
    "dev_test_texts[14]\n",
    "clf.predict(dev_test_vectors[14])"
   ]
  },
  {
   "cell_type": "markdown",
   "id": "a2a0408c",
   "metadata": {},
   "source": [
    "We can use the procedure to predict the results for all the test_data, by"
   ]
  },
  {
   "cell_type": "code",
   "execution_count": 43,
   "id": "bb531e1e",
   "metadata": {},
   "outputs": [
    {
     "data": {
      "text/plain": [
       "array(['neg', 'neg', 'neg', 'pos', 'pos', 'neg', 'pos', 'neg', 'pos',\n",
       "       'pos', 'pos', 'neg', 'pos', 'pos', 'neg', 'pos', 'pos', 'pos',\n",
       "       'pos', 'pos', 'neg', 'pos', 'neg', 'neg', 'pos', 'neg', 'neg',\n",
       "       'pos', 'pos', 'pos', 'neg', 'pos', 'neg', 'pos', 'pos', 'pos',\n",
       "       'neg', 'neg', 'pos', 'neg', 'pos', 'pos', 'neg', 'pos', 'neg',\n",
       "       'pos', 'pos', 'neg', 'pos', 'neg', 'neg', 'pos', 'neg', 'pos',\n",
       "       'neg', 'neg', 'neg', 'neg', 'neg', 'neg', 'pos', 'neg', 'neg',\n",
       "       'pos', 'neg', 'neg', 'pos', 'pos', 'neg', 'neg', 'pos', 'neg',\n",
       "       'pos', 'neg', 'neg', 'pos', 'pos', 'neg', 'pos', 'pos', 'neg',\n",
       "       'neg', 'neg', 'neg', 'neg', 'pos', 'pos', 'neg', 'pos', 'neg',\n",
       "       'neg', 'neg', 'pos', 'pos', 'pos', 'neg', 'neg', 'neg', 'pos',\n",
       "       'pos', 'pos', 'neg', 'neg', 'neg', 'pos', 'pos', 'neg', 'pos',\n",
       "       'neg', 'neg', 'pos', 'neg', 'neg', 'pos', 'neg', 'neg', 'pos',\n",
       "       'pos', 'neg', 'pos', 'pos', 'neg', 'neg', 'pos', 'neg', 'neg',\n",
       "       'pos', 'neg', 'neg', 'neg', 'neg', 'neg', 'neg', 'neg', 'pos',\n",
       "       'neg', 'pos', 'neg', 'neg', 'neg', 'neg', 'pos', 'pos', 'pos',\n",
       "       'neg', 'neg', 'neg', 'pos', 'neg', 'neg', 'pos', 'neg', 'pos',\n",
       "       'pos', 'pos', 'pos', 'pos', 'pos', 'pos', 'neg', 'neg', 'pos',\n",
       "       'pos', 'neg', 'neg', 'pos', 'neg', 'pos', 'neg', 'pos', 'pos',\n",
       "       'neg', 'neg', 'pos', 'pos', 'neg', 'pos', 'neg', 'neg', 'neg',\n",
       "       'neg', 'neg', 'pos', 'pos', 'neg', 'neg', 'pos', 'pos', 'pos',\n",
       "       'neg', 'neg', 'pos', 'neg', 'pos', 'neg', 'neg', 'neg', 'pos',\n",
       "       'neg', 'neg'], dtype='<U3')"
      ]
     },
     "execution_count": 43,
     "metadata": {},
     "output_type": "execute_result"
    }
   ],
   "source": [
    "clf.predict(dev_test_vectors)"
   ]
  },
  {
   "cell_type": "markdown",
   "id": "7a0be7cd",
   "metadata": {},
   "source": [
    "We can use this for further evaluation (accuracy, recall, precision, etc.) by comparing to\n",
    "dev_test_targets. Alternatively, we can get the accuracy directly by"
   ]
  },
  {
   "cell_type": "code",
   "execution_count": 44,
   "id": "6753b938",
   "metadata": {},
   "outputs": [
    {
     "data": {
      "text/plain": [
       "0.855"
      ]
     },
     "execution_count": 44,
     "metadata": {},
     "output_type": "execute_result"
    }
   ],
   "source": [
    "clf.score(dev_test_vectors, dev_test_target)"
   ]
  },
  {
   "cell_type": "markdown",
   "id": "41c42b12",
   "metadata": {},
   "source": [
    "This results in 0.855 accuracy score for a multinomial naive Bayes text classifier."
   ]
  },
  {
   "cell_type": "markdown",
   "id": "5aa6a89c",
   "metadata": {},
   "source": [
    "### 1b) Parameters of the vectorizer"
   ]
  },
  {
   "cell_type": "markdown",
   "id": "5ecaa111",
   "metadata": {},
   "source": [
    "We have so far considered the standard parameters for the procedures from scikit-learn. These procedures have, however, many parameters. To get optimal results, we should adjust the parameters.\n",
    "We can use train_data for training various models and dev_test_data for testing and comparing\n",
    "them."
   ]
  },
  {
   "cell_type": "markdown",
   "id": "26fd7bf9",
   "metadata": {},
   "source": [
    "CountVectorizer case-folds by default. For a different corpus, it could be interesting\n",
    "to check the effect of this feature, but even the movie_reviews.raw() is already in lower case, so that\n",
    "does not have an effect here. We could also have explored the effect of exchanging\n",
    "the default tokenizer included in CountVectorizer with other tokenizers."
   ]
  },
  {
   "cell_type": "markdown",
   "id": "e5b9a7ac",
   "metadata": {},
   "source": [
    "Another interesting feature is *binary*. Setting this to True implies only counting whether a word\n",
    "occurs in a document and not how many times it occurs. It could be interesting to see the effect\n",
    "of this feature.\n",
    "\n",
    "The feature *ngram_range* = [1,1] means we use tokens (=unigrams) only, [2,2] means using bigrams\n",
    "only, while [1,2] means both unigrams and bigrams, and so on."
   ]
  },
  {
   "cell_type": "markdown",
   "id": "d40d4df2",
   "metadata": {},
   "source": [
    "Now, we do some experiments where we let binary vary over [False, True] and ngram_range vary over [[1,1],\n",
    "[1,2], [1,3]] and try see which setting gives the most optimal accuracy."
   ]
  },
  {
   "cell_type": "code",
   "execution_count": 45,
   "id": "b3ec52fc",
   "metadata": {},
   "outputs": [],
   "source": [
    "def varying_paramters(ngram_range, binary):\n",
    "    v = CountVectorizer(ngram_range = ngram_range, binary = binary)\n",
    "    v.fit(train_texts)\n",
    "\n",
    "    train_vectors = v.transform(train_texts)\n",
    "    dev_test_vectors = v.transform(dev_test_texts)\n",
    "\n",
    "    clf = MultinomialNB()\n",
    "    clf.fit(train_vectors, train_target)\n",
    "    clf.predict(dev_test_vectors)\n",
    "    return clf.score(dev_test_vectors, dev_test_target)\n",
    "\n",
    "n_gram_list = [(1,1),(1,2),(1,3)]\n",
    "binary_list = [False,True]\n",
    "\n",
    "accuracy = {binary_list[0]: [], binary_list[1]:[]}\n",
    "\n",
    "for binary in binary_list:\n",
    "    for ngram_range in n_gram_list:\n",
    "        accuracy[binary].append(varying_paramters(ngram_range, binary))"
   ]
  },
  {
   "cell_type": "code",
   "execution_count": 46,
   "id": "84f5909d",
   "metadata": {},
   "outputs": [
    {
     "data": {
      "text/html": [
       "<div>\n",
       "<style scoped>\n",
       "    .dataframe tbody tr th:only-of-type {\n",
       "        vertical-align: middle;\n",
       "    }\n",
       "\n",
       "    .dataframe tbody tr th {\n",
       "        vertical-align: top;\n",
       "    }\n",
       "\n",
       "    .dataframe thead th {\n",
       "        text-align: right;\n",
       "    }\n",
       "</style>\n",
       "<table border=\"1\" class=\"dataframe\">\n",
       "  <thead>\n",
       "    <tr style=\"text-align: right;\">\n",
       "      <th></th>\n",
       "      <th>(1, 1)</th>\n",
       "      <th>(1, 2)</th>\n",
       "      <th>(1, 3)</th>\n",
       "    </tr>\n",
       "  </thead>\n",
       "  <tbody>\n",
       "    <tr>\n",
       "      <th>False</th>\n",
       "      <td>0.855</td>\n",
       "      <td>0.865</td>\n",
       "      <td>0.835</td>\n",
       "    </tr>\n",
       "    <tr>\n",
       "      <th>True</th>\n",
       "      <td>0.845</td>\n",
       "      <td>0.885</td>\n",
       "      <td>0.860</td>\n",
       "    </tr>\n",
       "  </tbody>\n",
       "</table>\n",
       "</div>"
      ],
      "text/plain": [
       "       (1, 1)  (1, 2)  (1, 3)\n",
       "False   0.855   0.865   0.835\n",
       "True    0.845   0.885   0.860"
      ]
     },
     "execution_count": 46,
     "metadata": {},
     "output_type": "execute_result"
    }
   ],
   "source": [
    "col1 = [accuracy[binary_list[0]][0], accuracy[binary_list[1]][0]]\n",
    "col2 = [accuracy[binary_list[0]][1], accuracy[binary_list[1]][1]]\n",
    "col3 = [accuracy[binary_list[0]][2], accuracy[binary_list[1]][2]]\n",
    "\n",
    "table = {n_gram_list[0]: col1, n_gram_list[1]:col2,n_gram_list[2]:col3}\n",
    "\n",
    "df = pd.DataFrame(data = table, columns = n_gram_list)\n",
    "df.index = binary_list\n",
    "df"
   ]
  },
  {
   "cell_type": "markdown",
   "id": "2387c334",
   "metadata": {},
   "source": [
    "It looks like for *ngram_range* paramter for (1,1), the *binary* variable for False gives the best accuracy. But for the other values of *ngram_range*, *binary = True* gives better prediction. The conclusion of this experiment is that we get best results by using unigrams and bigrams tokens (*ngram_range*=(1, 2)), and counting whether a word occurs in a document and not how many times it occurs (*binary=True*)."
   ]
  },
  {
   "cell_type": "markdown",
   "id": "160fd1aa",
   "metadata": {},
   "source": [
    "## 2) n-fold cross-validation"
   ]
  },
  {
   "cell_type": "markdown",
   "id": "1b627a77",
   "metadata": {},
   "source": [
    "**2a)** \n",
    "\n",
    "Our *dev_test_data* contains only 200 items. That is a small number for a test set for a binary\n",
    "classifier. The numbers we report may depend to a large degree on the split between training\n",
    "and test data. To get more reliable numbers, we may use n-gram cross-validation. We can use\n",
    "the whole *dev_test_data* of 1800 items for this. To get round numbers, we decide to use 9-fold\n",
    "cross-validation, which will put 200 items in each test set."
   ]
  },
  {
   "cell_type": "markdown",
   "id": "87e11cb6",
   "metadata": {},
   "source": [
    "In this case, we will use the best settings from exercise 1 and run a 9-fold cross-validation. The best settings of exercise 1 was:"
   ]
  },
  {
   "cell_type": "code",
   "execution_count": 47,
   "id": "4784859f",
   "metadata": {},
   "outputs": [],
   "source": [
    "best_binary = True\n",
    "best_ngram_range = (1,2)"
   ]
  },
  {
   "cell_type": "markdown",
   "id": "dff0acbb",
   "metadata": {},
   "source": [
    "We decide to use 9-fold cross-validation which will put 200 items in each test set. This means that by this method, we will end up using the whole dataset for testing. Therefore, I divided the *movie_dev* into exactly 9 folds. The first fold has the indices of movie_dev[0-200], the second has movie_dev[200-400] and so on, and the rest of the *movie_dev* data for each iteration is used for training."
   ]
  },
  {
   "cell_type": "code",
   "execution_count": 48,
   "id": "c4c807df",
   "metadata": {},
   "outputs": [
    {
     "name": "stdout",
     "output_type": "stream",
     "text": [
      "n = 1 | Acuuracy: 0.8150 - index: 0 - 200\n",
      "n = 2 | Acuuracy: 0.8600 - index: 200 - 400\n",
      "n = 3 | Acuuracy: 0.8900 - index: 400 - 600\n",
      "n = 4 | Acuuracy: 0.8250 - index: 600 - 800\n",
      "n = 5 | Acuuracy: 0.8250 - index: 800 - 1000\n",
      "n = 6 | Acuuracy: 0.8550 - index: 1000 - 1200\n",
      "n = 7 | Acuuracy: 0.8900 - index: 1200 - 1400\n",
      "n = 8 | Acuuracy: 0.8350 - index: 1400 - 1600\n",
      "n = 9 | Acuuracy: 0.8850 - index: 1600 - 1800\n",
      "Mean of accuracy: 0.8533 | Standard deviation: 0.0282\n"
     ]
    }
   ],
   "source": [
    "def find_accuracy(clf,binary,ngram_range,printing= True):\n",
    "    accuracies = []\n",
    "    \n",
    "    #n_gram fold cross validation\n",
    "    for i in range(1,10):\n",
    "        end_slice = i*2*100\n",
    "        start_slice = end_slice - 200\n",
    "\n",
    "        dev_test_data = movie_dev[start_slice:end_slice]\n",
    "        if start_slice == 0:\n",
    "            train_data = movie_dev[end_slice:]\n",
    "        elif start_slice == 1600:\n",
    "            train_data = movie_dev[:start_slice]\n",
    "        else:\n",
    "            train_data = movie_dev[:start_slice] + movie_dev[end_slice:]\n",
    "\n",
    "        ##splitting the data into texts and target:\n",
    "        train_texts, train_target = split_text_and_target(train_data)\n",
    "        dev_test_texts, dev_test_target = split_text_and_target(dev_test_data)\n",
    "\n",
    "        ##vectorizing the data:\n",
    "        v_best = CountVectorizer(ngram_range = ngram_range, binary = binary)\n",
    "        v_best.fit(train_texts)\n",
    "\n",
    "        train_vectors = v_best.transform(train_texts)\n",
    "        dev_test_vectors = v_besttrain_texts, train_target = split_text_and_target(train_data)\n",
    "        dev_test_texts, dev_test_target = split_text_and_target(dev_test_data).transform(dev_test_texts)\n",
    "\n",
    "        clf.fit(train_vectors, train_target)\n",
    "        clf.predict(dev_test_vectors)\n",
    "        accuracy = clf.score(dev_test_vectors, dev_test_target)\n",
    "        accuracies.append(accuracy)\n",
    "\n",
    "        if printing == True:\n",
    "            print(f'n = {i} | Acuuracy: {accuracy:3.4f} - index: {start_slice} - {end_slice}')\n",
    "\n",
    "    mean_of_accuracy = np.mean(accuracies)\n",
    "    std_of_accuracy = np.std(accuracies)\n",
    "    if printing == True:\n",
    "        print(f'Mean of accuracy: {mean_of_accuracy:3.4f} | Standard deviation: {std_of_accuracy:3.4f}')\n",
    "    return mean_of_accuracy\n",
    "\n",
    "accuracy = find_accuracy(MultinomialNB(),best_binary,best_ngram_range)"
   ]
  },
  {
   "cell_type": "markdown",
   "id": "40091008",
   "metadata": {},
   "source": [
    "**2b)**\n",
    "\n",
    "The large variation we see between the results, raises a question regarding whether the optimal\n",
    "settings we found in exercise 1, would also be optimal for another split between training and test.\n",
    "To find out, we combine the 9-fold cross-validation with the various settings for CountVectorizer. For each of the 6 settings, we will run 9-fold cross-validation and calculate the mean accuracy."
   ]
  },
  {
   "cell_type": "code",
   "execution_count": 49,
   "id": "75c7499b",
   "metadata": {},
   "outputs": [
    {
     "data": {
      "text/html": [
       "<div>\n",
       "<style scoped>\n",
       "    .dataframe tbody tr th:only-of-type {\n",
       "        vertical-align: middle;\n",
       "    }\n",
       "\n",
       "    .dataframe tbody tr th {\n",
       "        vertical-align: top;\n",
       "    }\n",
       "\n",
       "    .dataframe thead th {\n",
       "        text-align: right;\n",
       "    }\n",
       "</style>\n",
       "<table border=\"1\" class=\"dataframe\">\n",
       "  <thead>\n",
       "    <tr style=\"text-align: right;\">\n",
       "      <th></th>\n",
       "      <th>(1, 1)</th>\n",
       "      <th>(1, 2)</th>\n",
       "      <th>(1, 3)</th>\n",
       "    </tr>\n",
       "  </thead>\n",
       "  <tbody>\n",
       "    <tr>\n",
       "      <th>False</th>\n",
       "      <td>0.817222</td>\n",
       "      <td>0.833889</td>\n",
       "      <td>0.818889</td>\n",
       "    </tr>\n",
       "    <tr>\n",
       "      <th>True</th>\n",
       "      <td>0.821667</td>\n",
       "      <td>0.853333</td>\n",
       "      <td>0.850556</td>\n",
       "    </tr>\n",
       "  </tbody>\n",
       "</table>\n",
       "</div>"
      ],
      "text/plain": [
       "         (1, 1)    (1, 2)    (1, 3)\n",
       "False  0.817222  0.833889  0.818889\n",
       "True   0.821667  0.853333  0.850556"
      ]
     },
     "execution_count": 49,
     "metadata": {},
     "output_type": "execute_result"
    }
   ],
   "source": [
    "accuracy_CV = {binary_list[0]: [], binary_list[1]:[]}\n",
    "\n",
    "for binary in binary_list:\n",
    "    for ngram_range in n_gram_list:\n",
    "        accuracy_CV[binary].append(find_accuracy(MultinomialNB(),binary,ngram_range,printing= False))\n",
    "\n",
    "col1 = [accuracy_CV[binary_list[0]][0], accuracy_CV[binary_list[1]][0]]\n",
    "col2 = [accuracy_CV[binary_list[0]][1], accuracy_CV[binary_list[1]][1]]\n",
    "col3 = [accuracy_CV[binary_list[0]][2], accuracy_CV[binary_list[1]][2]]\n",
    "\n",
    "table = {n_gram_list[0]: col1, n_gram_list[1]:col2,n_gram_list[2]:col3}\n",
    "\n",
    "df = pd.DataFrame(data = table, columns = n_gram_list)\n",
    "df.index = binary_list\n",
    "df"
   ]
  },
  {
   "cell_type": "markdown",
   "id": "c534a473",
   "metadata": {},
   "source": [
    "It looks like that we get the same results as above. The best paramters for vectorization is **(1,2)** for *ngram_range* and **True** for  *binary*"
   ]
  },
  {
   "cell_type": "markdown",
   "id": "4d23b82f",
   "metadata": {},
   "source": [
    "## 3) Logistic Regression"
   ]
  },
  {
   "cell_type": "markdown",
   "id": "ac308759",
   "metadata": {},
   "source": [
    "We know that Logistic Regression may produce better results than Naive Bayes. We will see what\n",
    "happens if we use Logistic Regression instead of Naive Bayes. We start with the same multinomial\n",
    "model for text classification but exchange the learner with sciki-learn’s LogisticRegression. Since logistic regression is slow to train, we restrict ourselves somewhat with respect to which\n",
    "experiments to run. We consider two settings for the CountVectorizer, the default setting and the\n",
    "setting which gave the best result with naive Bayes when we ran cross-validation (though, this\n",
    "does not have to be the best setting for the logistic regression)."
   ]
  },
  {
   "cell_type": "code",
   "execution_count": 50,
   "id": "e9411516",
   "metadata": {},
   "outputs": [],
   "source": [
    "LogReg = LogisticRegression(solver='liblinear')\n",
    "\n",
    "#running the find_accuracy(-) function to find the mean accuracy for logistic classifier\n",
    "acc_log_default = find_accuracy(LogReg,False,(1, 1),printing= False) #default valeus \n",
    "acc_log_setting = find_accuracy(LogReg,True,(1,2),printing= False) #best setting values"
   ]
  },
  {
   "cell_type": "code",
   "execution_count": 51,
   "id": "581ff390",
   "metadata": {},
   "outputs": [
    {
     "data": {
      "text/html": [
       "<div>\n",
       "<style scoped>\n",
       "    .dataframe tbody tr th:only-of-type {\n",
       "        vertical-align: middle;\n",
       "    }\n",
       "\n",
       "    .dataframe tbody tr th {\n",
       "        vertical-align: top;\n",
       "    }\n",
       "\n",
       "    .dataframe thead th {\n",
       "        text-align: right;\n",
       "    }\n",
       "</style>\n",
       "<table border=\"1\" class=\"dataframe\">\n",
       "  <thead>\n",
       "    <tr style=\"text-align: right;\">\n",
       "      <th></th>\n",
       "      <th>Logistic regression:</th>\n",
       "      <th>Naive Bayes</th>\n",
       "    </tr>\n",
       "  </thead>\n",
       "  <tbody>\n",
       "    <tr>\n",
       "      <th>Default values:</th>\n",
       "      <td>0.832778</td>\n",
       "      <td>0.817222</td>\n",
       "    </tr>\n",
       "    <tr>\n",
       "      <th>Best setting values:</th>\n",
       "      <td>0.871667</td>\n",
       "      <td>0.853333</td>\n",
       "    </tr>\n",
       "  </tbody>\n",
       "</table>\n",
       "</div>"
      ],
      "text/plain": [
       "                       Logistic regression:   Naive Bayes\n",
       "Default values:                     0.832778     0.817222\n",
       "Best setting values:                0.871667     0.853333"
      ]
     },
     "execution_count": 51,
     "metadata": {},
     "output_type": "execute_result"
    }
   ],
   "source": [
    "table = {\"Logistic regression: \": [acc_log_default,acc_log_setting], \n",
    "         \"Naive Bayes\": [accuracy_CV[False][0],accuracy_CV[True][1] ]}\n",
    "df = pd.DataFrame(data = table)\n",
    "df.index = [\"Default values: \", \"Best setting values: \"]\n",
    "df"
   ]
  },
  {
   "cell_type": "markdown",
   "id": "d536d424",
   "metadata": {},
   "source": [
    "We can see here that that Logistic regression is much better classfier than Naive Bayes (NB). We used same vectorization parameters for Logistic regression and Naive Bayes, but in both cases ended up with Logistic regression having a better accuracy. Both algorithms are probability-based, but NB is a generative classifier. It has a specific model of how the data are generated, meaning that it only considers the occurences of the words. While on the otherside, LogReg is a discriminative classifier. It only considers the conditional probability. "
   ]
  }
 ],
 "metadata": {
  "kernelspec": {
   "display_name": "Python 3 (ipykernel)",
   "language": "python",
   "name": "python3"
  },
  "language_info": {
   "codemirror_mode": {
    "name": "ipython",
    "version": 3
   },
   "file_extension": ".py",
   "mimetype": "text/x-python",
   "name": "python",
   "nbconvert_exporter": "python",
   "pygments_lexer": "ipython3",
   "version": "3.9.6"
  }
 },
 "nbformat": 4,
 "nbformat_minor": 5
}
